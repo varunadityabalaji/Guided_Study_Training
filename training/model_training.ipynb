{
 "cells": [
  {
   "cell_type": "markdown",
   "id": "55db664b",
   "metadata": {},
   "source": [
    "# Model Training\n",
    "ANN,LSTM,GRU models are trained"
   ]
  },
  {
   "cell_type": "code",
   "execution_count": 2,
   "id": "6a50eca0",
   "metadata": {},
   "outputs": [],
   "source": [
    "import pandas as pd\n",
    "from keras.models import Sequential\n",
    "from keras.layers import Dense\n",
    "from sklearn.preprocessing import MinMaxScaler\n",
    "from tensorflow.keras.layers import LSTM\n",
    "from tensorflow.keras.layers import GRU\n",
    "import tensorflow as tf\n",
    "import math\n",
    "from zipfile import ZipFile\n",
    "import pickle\n",
    "import os\n",
    "import numpy as np\n",
    "from sklearn.metrics import mean_squared_error\n",
    "from matplotlib import pyplot as plt\n",
    "from sklearn.model_selection import train_test_split\n",
    "from sklearn.decomposition import PCA\n",
    "import joblib "
   ]
  },
  {
   "cell_type": "code",
   "execution_count": 3,
   "id": "8dd1d5ce",
   "metadata": {},
   "outputs": [],
   "source": [
    "stock_tickers = ['AAPL','GOOG','TSLA','MSFT']"
   ]
  },
  {
   "cell_type": "code",
   "execution_count": 4,
   "id": "3b695d5c",
   "metadata": {},
   "outputs": [],
   "source": [
    "#read in the files\n",
    "apple = pd.read_csv('../data/AAPL.csv')\n",
    "google = pd.read_csv('../data/GOOG.csv')\n",
    "tesla = pd.read_csv('../data/TSLA.csv')\n",
    "microsoft = pd.read_csv('../data/MSFT.csv')"
   ]
  },
  {
   "cell_type": "code",
   "execution_count": 5,
   "id": "890f1bfb",
   "metadata": {},
   "outputs": [
    {
     "name": "stderr",
     "output_type": "stream",
     "text": [
      "/var/folders/8y/6j0y5pg92ng64xbpn5hywscc0000gn/T/ipykernel_40370/1336139938.py:2: FutureWarning: In a future version of pandas all arguments of DataFrame.drop except for the argument 'labels' will be keyword-only.\n",
      "  apple = apple.drop(apple.columns[0],1)\n",
      "/var/folders/8y/6j0y5pg92ng64xbpn5hywscc0000gn/T/ipykernel_40370/1336139938.py:3: FutureWarning: In a future version of pandas all arguments of DataFrame.drop except for the argument 'labels' will be keyword-only.\n",
      "  google = google.drop(google.columns[0],1)\n",
      "/var/folders/8y/6j0y5pg92ng64xbpn5hywscc0000gn/T/ipykernel_40370/1336139938.py:4: FutureWarning: In a future version of pandas all arguments of DataFrame.drop except for the argument 'labels' will be keyword-only.\n",
      "  tesla = tesla.drop(tesla.columns[0],1)\n",
      "/var/folders/8y/6j0y5pg92ng64xbpn5hywscc0000gn/T/ipykernel_40370/1336139938.py:5: FutureWarning: In a future version of pandas all arguments of DataFrame.drop except for the argument 'labels' will be keyword-only.\n",
      "  microsoft = microsoft.drop(microsoft.columns[0],1)\n"
     ]
    }
   ],
   "source": [
    "#format the dataframes\n",
    "apple = apple.drop(apple.columns[0],1)\n",
    "google = google.drop(google.columns[0],1)\n",
    "tesla = tesla.drop(tesla.columns[0],1)\n",
    "microsoft = microsoft.drop(microsoft.columns[0],1)"
   ]
  },
  {
   "cell_type": "code",
   "execution_count": 6,
   "id": "10437ef9",
   "metadata": {},
   "outputs": [],
   "source": [
    "#features to be used\n",
    "indicators = ['High','Low','Open','Volume','Adj Close','H-L','O-C','5MA',\n",
    "              '10MA','20MA','7SD','EMA8','EMA21','EMA34','EMA55','RSI_14','Sentiment']"
   ]
  },
  {
   "cell_type": "markdown",
   "id": "89d29614",
   "metadata": {},
   "source": [
    "# Training ANN model for AAPL"
   ]
  },
  {
   "cell_type": "code",
   "execution_count": 7,
   "id": "5dd12a40",
   "metadata": {},
   "outputs": [
    {
     "name": "stderr",
     "output_type": "stream",
     "text": [
      "2022-07-16 21:33:01.840398: I tensorflow/core/common_runtime/pluggable_device/pluggable_device_factory.cc:305] Could not identify NUMA node of platform GPU ID 0, defaulting to 0. Your kernel may not have been built with NUMA support.\n",
      "2022-07-16 21:33:01.840526: I tensorflow/core/common_runtime/pluggable_device/pluggable_device_factory.cc:271] Created TensorFlow device (/job:localhost/replica:0/task:0/device:GPU:0 with 0 MB memory) -> physical PluggableDevice (device: 0, name: METAL, pci bus id: <undefined>)\n"
     ]
    },
    {
     "name": "stdout",
     "output_type": "stream",
     "text": [
      "Metal device set to: Apple M1\n",
      "Epoch 1/15\n"
     ]
    },
    {
     "name": "stderr",
     "output_type": "stream",
     "text": [
      "2022-07-16 21:33:02.347686: W tensorflow/core/platform/profile_utils/cpu_utils.cc:128] Failed to get CPU frequency: 0 Hz\n",
      "2022-07-16 21:33:02.615081: I tensorflow/core/grappler/optimizers/custom_graph_optimizer_registry.cc:113] Plugin optimizer for device_type GPU is enabled.\n"
     ]
    },
    {
     "name": "stdout",
     "output_type": "stream",
     "text": [
      "8/8 [==============================] - 4s 87ms/step - loss: 0.2784 - val_loss: 0.2228\n",
      "Epoch 2/15\n",
      "8/8 [==============================] - 0s 8ms/step - loss: 0.2638 - val_loss: 0.2082\n",
      "Epoch 3/15\n",
      "8/8 [==============================] - 0s 9ms/step - loss: 0.2432 - val_loss: 0.1861\n",
      "Epoch 4/15\n",
      "1/8 [==>...........................] - ETA: 0s - loss: 0.2209"
     ]
    },
    {
     "name": "stderr",
     "output_type": "stream",
     "text": [
      "2022-07-16 21:33:06.334520: I tensorflow/core/grappler/optimizers/custom_graph_optimizer_registry.cc:113] Plugin optimizer for device_type GPU is enabled.\n"
     ]
    },
    {
     "name": "stdout",
     "output_type": "stream",
     "text": [
      "8/8 [==============================] - 0s 9ms/step - loss: 0.2092 - val_loss: 0.1524\n",
      "Epoch 5/15\n",
      "8/8 [==============================] - 0s 9ms/step - loss: 0.1618 - val_loss: 0.1066\n",
      "Epoch 6/15\n",
      "8/8 [==============================] - 0s 8ms/step - loss: 0.0995 - val_loss: 0.0627\n",
      "Epoch 7/15\n",
      "8/8 [==============================] - 0s 8ms/step - loss: 0.0520 - val_loss: 0.0361\n",
      "Epoch 8/15\n",
      "8/8 [==============================] - 0s 8ms/step - loss: 0.0253 - val_loss: 0.0227\n",
      "Epoch 9/15\n",
      "8/8 [==============================] - 0s 8ms/step - loss: 0.0156 - val_loss: 0.0133\n",
      "Epoch 10/15\n",
      "8/8 [==============================] - 0s 8ms/step - loss: 0.0091 - val_loss: 0.0085\n",
      "Epoch 11/15\n",
      "8/8 [==============================] - 0s 8ms/step - loss: 0.0064 - val_loss: 0.0070\n",
      "Epoch 12/15\n",
      "8/8 [==============================] - 0s 8ms/step - loss: 0.0054 - val_loss: 0.0065\n",
      "Epoch 13/15\n",
      "8/8 [==============================] - 0s 8ms/step - loss: 0.0048 - val_loss: 0.0061\n",
      "Epoch 14/15\n",
      "8/8 [==============================] - 0s 8ms/step - loss: 0.0043 - val_loss: 0.0057\n",
      "Epoch 15/15\n",
      "8/8 [==============================] - 0s 8ms/step - loss: 0.0039 - val_loss: 0.0054\n"
     ]
    }
   ],
   "source": [
    "X = np.asarray(apple[indicators], np.float32)\n",
    "Y = np.asarray(apple['Close'], np.float32)\n",
    "\n",
    "X_train, X_test, y_train, y_test = train_test_split(X, Y, test_size=0.2)\n",
    "\n",
    "y_train = y_train.reshape(-1,1)\n",
    "mms_X = MinMaxScaler()\n",
    "mms_y = MinMaxScaler()\n",
    "\n",
    "scaler_x = mms_X.fit(X_train)\n",
    "scaler_y = mms_y.fit(y_train)\n",
    "\n",
    "X_train = scaler_x.transform(X_train)\n",
    "y_train = scaler_y.transform(y_train)\n",
    "\n",
    "X_test = scaler_x.transform(X_test)\n",
    "y_test = y_test.reshape(-1,1)\n",
    "y_test = scaler_y.transform(y_test)\n",
    "\n",
    "pca = PCA(n_components=4)\n",
    "\n",
    "X_train= pca.fit_transform(X_train)\n",
    "X_test = pca.transform(X_test)\n",
    "\n",
    "# Defining ANN neural network\n",
    "model = Sequential()\n",
    "model.add(Dense(units=50, input_dim=4, kernel_initializer='normal', activation='relu'))\n",
    "model.add(Dense(units=25, kernel_initializer='normal', activation='tanh'))\n",
    "model.add(Dense(units=10, kernel_initializer='normal', activation='tanh'))\n",
    "model.add(Dense(1, kernel_initializer='normal'))\n",
    "\n",
    "# Compiling the model\n",
    "model.compile(loss='mean_squared_error', optimizer='adam')\n",
    "\n",
    "# Fitting the ANN to the Training set\n",
    "history = model.fit(X_train, y_train ,batch_size = 10, validation_data = (X_test, y_test), epochs = 15, verbose=1)\n",
    "\n",
    "#save the model\n",
    "model.save(r'../models/AAPL_ann.h5')\n",
    "\n",
    "#save the feature data normalizer\n",
    "scalerfilename_x = f'../normalizers/scaler_x_AAPL_ann.pkl'\n",
    "pickle.dump(scaler_x, open(scalerfilename_x, 'wb'))\n",
    "\n",
    "\n",
    "# #save the output normaliser\n",
    "scalerfilename_y = f'../normalizers/scaler_y_AAPL_ann.pkl'\n",
    "pickle.dump(scaler_y, open(scalerfilename_y, 'wb'))"
   ]
  },
  {
   "cell_type": "markdown",
   "id": "d4077865",
   "metadata": {},
   "source": [
    "# Training ANN model for TSLA"
   ]
  },
  {
   "cell_type": "code",
   "execution_count": 8,
   "id": "e84cbce1",
   "metadata": {},
   "outputs": [
    {
     "name": "stdout",
     "output_type": "stream",
     "text": [
      "Epoch 1/15\n",
      "1/8 [==>...........................] - ETA: 2s - loss: 0.3782"
     ]
    },
    {
     "name": "stderr",
     "output_type": "stream",
     "text": [
      "2022-07-16 21:33:07.586578: I tensorflow/core/grappler/optimizers/custom_graph_optimizer_registry.cc:113] Plugin optimizer for device_type GPU is enabled.\n"
     ]
    },
    {
     "name": "stdout",
     "output_type": "stream",
     "text": [
      "8/8 [==============================] - 1s 128ms/step - loss: 0.3223 - val_loss: 0.2114\n",
      "Epoch 2/15\n",
      "8/8 [==============================] - 0s 9ms/step - loss: 0.3047 - val_loss: 0.1941\n",
      "Epoch 3/15\n",
      "8/8 [==============================] - 0s 9ms/step - loss: 0.2778 - val_loss: 0.1680\n",
      "Epoch 4/15\n",
      "1/8 [==>...........................] - ETA: 0s - loss: 0.3653"
     ]
    },
    {
     "name": "stderr",
     "output_type": "stream",
     "text": [
      "2022-07-16 21:33:08.546538: I tensorflow/core/grappler/optimizers/custom_graph_optimizer_registry.cc:113] Plugin optimizer for device_type GPU is enabled.\n"
     ]
    },
    {
     "name": "stdout",
     "output_type": "stream",
     "text": [
      "8/8 [==============================] - 0s 9ms/step - loss: 0.2389 - val_loss: 0.1293\n",
      "Epoch 5/15\n",
      "8/8 [==============================] - 0s 9ms/step - loss: 0.1723 - val_loss: 0.0806\n",
      "Epoch 6/15\n",
      "8/8 [==============================] - 0s 9ms/step - loss: 0.1009 - val_loss: 0.0338\n",
      "Epoch 7/15\n",
      "8/8 [==============================] - 0s 8ms/step - loss: 0.0373 - val_loss: 0.0152\n",
      "Epoch 8/15\n",
      "8/8 [==============================] - 0s 8ms/step - loss: 0.0162 - val_loss: 0.0176\n",
      "Epoch 9/15\n",
      "8/8 [==============================] - 0s 9ms/step - loss: 0.0142 - val_loss: 0.0143\n",
      "Epoch 10/15\n",
      "8/8 [==============================] - 0s 9ms/step - loss: 0.0093 - val_loss: 0.0071\n",
      "Epoch 11/15\n",
      "8/8 [==============================] - 0s 9ms/step - loss: 0.0059 - val_loss: 0.0037\n",
      "Epoch 12/15\n",
      "8/8 [==============================] - 0s 9ms/step - loss: 0.0047 - val_loss: 0.0030\n",
      "Epoch 13/15\n",
      "8/8 [==============================] - 0s 9ms/step - loss: 0.0037 - val_loss: 0.0031\n",
      "Epoch 14/15\n",
      "8/8 [==============================] - 0s 9ms/step - loss: 0.0031 - val_loss: 0.0037\n",
      "Epoch 15/15\n",
      "8/8 [==============================] - 0s 9ms/step - loss: 0.0027 - val_loss: 0.0036\n"
     ]
    }
   ],
   "source": [
    "X = np.asarray(tesla[indicators], np.float32)\n",
    "Y = np.asarray(tesla['Close'], np.float32)\n",
    "\n",
    "X_train, X_test, y_train, y_test = train_test_split(X, Y, test_size=0.2)\n",
    "\n",
    "y_train = y_train.reshape(-1,1)\n",
    "mms_X = MinMaxScaler()\n",
    "mms_y = MinMaxScaler()\n",
    "\n",
    "scaler_x = mms_X.fit(X_train)\n",
    "scaler_y = mms_y.fit(y_train)\n",
    "\n",
    "X_train = scaler_x.transform(X_train)\n",
    "y_train = scaler_y.transform(y_train)\n",
    "\n",
    "X_test = scaler_x.transform(X_test)\n",
    "y_test = y_test.reshape(-1,1)\n",
    "y_test = scaler_y.transform(y_test)\n",
    "\n",
    "pca = PCA(n_components=4)\n",
    "\n",
    "X_train= pca.fit_transform(X_train)\n",
    "X_test = pca.transform(X_test)\n",
    "\n",
    "# Defining ANN neural network\n",
    "model = Sequential()\n",
    "model.add(Dense(units=50, input_dim=4, kernel_initializer='normal', activation='relu'))\n",
    "model.add(Dense(units=25, kernel_initializer='normal', activation='tanh'))\n",
    "model.add(Dense(units=10, kernel_initializer='normal', activation='tanh'))\n",
    "model.add(Dense(1, kernel_initializer='normal'))\n",
    "\n",
    "# Compiling the model\n",
    "model.compile(loss='mean_squared_error', optimizer='adam')\n",
    "\n",
    "# Fitting the ANN to the Training set\n",
    "history = model.fit(X_train, y_train ,batch_size = 10, validation_data = (X_test, y_test), epochs = 15, verbose=1)\n",
    "\n",
    "#save the model\n",
    "model.save(r'../models/TSLA_ann.h5')\n",
    "\n",
    "#save the feature data normalizer\n",
    "scalerfilename_x = f'../normalizers/scaler_x_TSLA_ann.pkl'\n",
    "pickle.dump(scaler_x, open(scalerfilename_x, 'wb'))\n",
    "\n",
    "\n",
    "# #save the output normaliser\n",
    "scalerfilename_y = f'../normalizers/scaler_y_TSLA_ann.pkl'\n",
    "pickle.dump(scaler_y, open(scalerfilename_y, 'wb'))"
   ]
  },
  {
   "cell_type": "markdown",
   "id": "24ca9576",
   "metadata": {},
   "source": [
    "# Training ANN model for GOOG"
   ]
  },
  {
   "cell_type": "code",
   "execution_count": 54,
   "id": "9c14d340",
   "metadata": {},
   "outputs": [
    {
     "name": "stdout",
     "output_type": "stream",
     "text": [
      "Epoch 1/15\n",
      "8/8 [==============================] - 1s 17ms/step - loss: 0.4042 - val_loss: 0.3406\n",
      "Epoch 2/15\n",
      "1/8 [==>...........................] - ETA: 0s - loss: 0.3635"
     ]
    },
    {
     "name": "stderr",
     "output_type": "stream",
     "text": [
      "2022-07-15 02:20:57.752074: I tensorflow/core/grappler/optimizers/custom_graph_optimizer_registry.cc:113] Plugin optimizer for device_type GPU is enabled.\n",
      "2022-07-15 02:20:57.921435: I tensorflow/core/grappler/optimizers/custom_graph_optimizer_registry.cc:113] Plugin optimizer for device_type GPU is enabled.\n"
     ]
    },
    {
     "name": "stdout",
     "output_type": "stream",
     "text": [
      "8/8 [==============================] - 0s 6ms/step - loss: 0.3809 - val_loss: 0.3154\n",
      "Epoch 3/15\n",
      "8/8 [==============================] - 0s 6ms/step - loss: 0.3492 - val_loss: 0.2778\n",
      "Epoch 4/15\n",
      "8/8 [==============================] - 0s 6ms/step - loss: 0.2983 - val_loss: 0.2222\n",
      "Epoch 5/15\n",
      "8/8 [==============================] - 0s 6ms/step - loss: 0.2271 - val_loss: 0.1481\n",
      "Epoch 6/15\n",
      "8/8 [==============================] - 0s 7ms/step - loss: 0.1416 - val_loss: 0.0748\n",
      "Epoch 7/15\n",
      "8/8 [==============================] - 0s 6ms/step - loss: 0.0740 - val_loss: 0.0386\n",
      "Epoch 8/15\n",
      "8/8 [==============================] - 0s 6ms/step - loss: 0.0418 - val_loss: 0.0296\n",
      "Epoch 9/15\n",
      "8/8 [==============================] - 0s 6ms/step - loss: 0.0297 - val_loss: 0.0185\n",
      "Epoch 10/15\n",
      "8/8 [==============================] - 0s 6ms/step - loss: 0.0186 - val_loss: 0.0097\n",
      "Epoch 11/15\n",
      "8/8 [==============================] - 0s 6ms/step - loss: 0.0132 - val_loss: 0.0072\n",
      "Epoch 12/15\n",
      "8/8 [==============================] - 0s 6ms/step - loss: 0.0110 - val_loss: 0.0062\n",
      "Epoch 13/15\n",
      "8/8 [==============================] - 0s 6ms/step - loss: 0.0098 - val_loss: 0.0059\n",
      "Epoch 14/15\n",
      "8/8 [==============================] - 0s 6ms/step - loss: 0.0090 - val_loss: 0.0059\n",
      "Epoch 15/15\n",
      "8/8 [==============================] - 0s 6ms/step - loss: 0.0086 - val_loss: 0.0058\n"
     ]
    }
   ],
   "source": [
    "X = np.asarray(google[indicators], np.float32)\n",
    "Y = np.asarray(google['Close'], np.float32)\n",
    "\n",
    "X_train, X_test, y_train, y_test = train_test_split(X, Y, test_size=0.2)\n",
    "\n",
    "y_train = y_train.reshape(-1,1)\n",
    "mms_X = MinMaxScaler()\n",
    "mms_y = MinMaxScaler()\n",
    "\n",
    "scaler_x = mms_X.fit(X_train)\n",
    "scaler_y = mms_y.fit(y_train)\n",
    "\n",
    "X_train = scaler_x.transform(X_train)\n",
    "y_train = scaler_y.transform(y_train)\n",
    "\n",
    "X_test = scaler_x.transform(X_test)\n",
    "y_test = y_test.reshape(-1,1)\n",
    "y_test = scaler_y.transform(y_test)\n",
    "\n",
    "pca = PCA(n_components=4)\n",
    "\n",
    "X_train= pca.fit_transform(X_train)\n",
    "X_test = pca.transform(X_test)\n",
    "\n",
    "# Defining ANN neural network\n",
    "model = Sequential()\n",
    "model.add(Dense(units=50, input_dim=4, kernel_initializer='normal', activation='relu'))\n",
    "model.add(Dense(units=25, kernel_initializer='normal', activation='tanh'))\n",
    "model.add(Dense(units=10, kernel_initializer='normal', activation='tanh'))\n",
    "model.add(Dense(1, kernel_initializer='normal'))\n",
    "\n",
    "# Compiling the model\n",
    "model.compile(loss='mean_squared_error', optimizer='adam')\n",
    "\n",
    "# Fitting the ANN to the Training set\n",
    "history = model.fit(X_train, y_train ,batch_size = 10, validation_data = (X_test, y_test), epochs = 15, verbose=1)\n",
    "\n",
    "#save the model\n",
    "model.save(r'../models/GOOG_ann.h5')\n",
    "\n",
    "#save the feature data normalizer\n",
    "scalerfilename_x = f'../normalizers/scaler_x_GOOG_ann.pkl'\n",
    "pickle.dump(scaler_x, open(scalerfilename_x, 'wb'))\n",
    "\n",
    "\n",
    "# #save the output normaliser\n",
    "scalerfilename_y = f'../normalizers/scaler_y_GOOG_ann.pkl'\n",
    "pickle.dump(scaler_y, open(scalerfilename_y, 'wb'))"
   ]
  },
  {
   "cell_type": "markdown",
   "id": "9f650d5d",
   "metadata": {},
   "source": [
    "# Training ANN model for MSFT"
   ]
  },
  {
   "cell_type": "code",
   "execution_count": 56,
   "id": "abfa991e",
   "metadata": {},
   "outputs": [
    {
     "name": "stdout",
     "output_type": "stream",
     "text": [
      "Epoch 1/15\n",
      "8/8 [==============================] - 0s 17ms/step - loss: 0.4347 - val_loss: 0.3272\n",
      "Epoch 2/15\n",
      "1/8 [==>...........................] - ETA: 0s - loss: 0.5540"
     ]
    },
    {
     "name": "stderr",
     "output_type": "stream",
     "text": [
      "2022-07-15 02:23:59.685029: I tensorflow/core/grappler/optimizers/custom_graph_optimizer_registry.cc:113] Plugin optimizer for device_type GPU is enabled.\n",
      "2022-07-15 02:23:59.845301: I tensorflow/core/grappler/optimizers/custom_graph_optimizer_registry.cc:113] Plugin optimizer for device_type GPU is enabled.\n"
     ]
    },
    {
     "name": "stdout",
     "output_type": "stream",
     "text": [
      "8/8 [==============================] - 0s 7ms/step - loss: 0.4120 - val_loss: 0.3050\n",
      "Epoch 3/15\n",
      "8/8 [==============================] - 0s 6ms/step - loss: 0.3785 - val_loss: 0.2705\n",
      "Epoch 4/15\n",
      "8/8 [==============================] - 0s 6ms/step - loss: 0.3240 - val_loss: 0.2165\n",
      "Epoch 5/15\n",
      "8/8 [==============================] - 0s 6ms/step - loss: 0.2370 - val_loss: 0.1426\n",
      "Epoch 6/15\n",
      "8/8 [==============================] - 0s 6ms/step - loss: 0.1349 - val_loss: 0.0718\n",
      "Epoch 7/15\n",
      "8/8 [==============================] - 0s 6ms/step - loss: 0.0542 - val_loss: 0.0361\n",
      "Epoch 8/15\n",
      "8/8 [==============================] - 0s 6ms/step - loss: 0.0227 - val_loss: 0.0272\n",
      "Epoch 9/15\n",
      "8/8 [==============================] - 0s 6ms/step - loss: 0.0171 - val_loss: 0.0190\n",
      "Epoch 10/15\n",
      "8/8 [==============================] - 0s 6ms/step - loss: 0.0118 - val_loss: 0.0120\n",
      "Epoch 11/15\n",
      "8/8 [==============================] - 0s 6ms/step - loss: 0.0077 - val_loss: 0.0098\n",
      "Epoch 12/15\n",
      "8/8 [==============================] - 0s 6ms/step - loss: 0.0067 - val_loss: 0.0090\n",
      "Epoch 13/15\n",
      "8/8 [==============================] - 0s 6ms/step - loss: 0.0060 - val_loss: 0.0082\n",
      "Epoch 14/15\n",
      "8/8 [==============================] - 0s 6ms/step - loss: 0.0053 - val_loss: 0.0077\n",
      "Epoch 15/15\n",
      "8/8 [==============================] - 0s 6ms/step - loss: 0.0048 - val_loss: 0.0074\n"
     ]
    }
   ],
   "source": [
    "X = np.asarray(microsoft[indicators], np.float32)\n",
    "Y = np.asarray(microsoft['Close'], np.float32)\n",
    "\n",
    "X_train, X_test, y_train, y_test = train_test_split(X, Y, test_size=0.2)\n",
    "\n",
    "y_train = y_train.reshape(-1,1)\n",
    "mms_X = MinMaxScaler()\n",
    "mms_y = MinMaxScaler()\n",
    "\n",
    "scaler_x = mms_X.fit(X_train)\n",
    "scaler_y = mms_y.fit(y_train)\n",
    "\n",
    "X_train = scaler_x.transform(X_train)\n",
    "y_train = scaler_y.transform(y_train)\n",
    "\n",
    "X_test = scaler_x.transform(X_test)\n",
    "y_test = y_test.reshape(-1,1)\n",
    "y_test = scaler_y.transform(y_test)\n",
    "\n",
    "pca = PCA(n_components=4)\n",
    "\n",
    "X_train= pca.fit_transform(X_train)\n",
    "X_test = pca.transform(X_test)\n",
    "\n",
    "# Defining ANN neural network\n",
    "model = Sequential()\n",
    "model.add(Dense(units=50, input_dim=4, kernel_initializer='normal', activation='relu'))\n",
    "model.add(Dense(units=25, kernel_initializer='normal', activation='tanh'))\n",
    "model.add(Dense(units=10, kernel_initializer='normal', activation='tanh'))\n",
    "model.add(Dense(1, kernel_initializer='normal'))\n",
    "\n",
    "# Compiling the model\n",
    "model.compile(loss='mean_squared_error', optimizer='adam')\n",
    "\n",
    "# Fitting the ANN to the Training set\n",
    "history = model.fit(X_train, y_train ,batch_size = 10, validation_data = (X_test, y_test), epochs = 15, verbose=1)\n",
    "\n",
    "#save the model\n",
    "model.save(r'../models/MSFT_ann.h5')\n",
    "\n",
    "#save the feature data normalizer\n",
    "scalerfilename_x = f'../normalizers/scaler_x_MSFT_ann.pkl'\n",
    "pickle.dump(scaler_x, open(scalerfilename_x, 'wb'))\n",
    "\n",
    "\n",
    "# #save the output normaliser\n",
    "scalerfilename_y = f'../normalizers/scaler_y_MSFT_ann.pkl'\n",
    "pickle.dump(scaler_y, open(scalerfilename_y, 'wb'))"
   ]
  },
  {
   "cell_type": "markdown",
   "id": "3a56f420",
   "metadata": {},
   "source": [
    "# Training LSTM model for AAPL"
   ]
  },
  {
   "cell_type": "code",
   "execution_count": 9,
   "id": "a02c12cf",
   "metadata": {},
   "outputs": [
    {
     "name": "stdout",
     "output_type": "stream",
     "text": [
      "(1, 4)\n",
      "WARNING:tensorflow:Layer lstm will not use cuDNN kernels since it doesn't meet the criteria. It will use a generic GPU kernel as fallback when running on GPU.\n",
      "Epoch 1/15\n"
     ]
    },
    {
     "name": "stderr",
     "output_type": "stream",
     "text": [
      "2022-07-16 21:33:20.771123: I tensorflow/core/grappler/optimizers/custom_graph_optimizer_registry.cc:113] Plugin optimizer for device_type GPU is enabled.\n"
     ]
    },
    {
     "name": "stdout",
     "output_type": "stream",
     "text": [
      "8/8 [==============================] - 2s 66ms/step - loss: 0.1060 - val_loss: 0.0699\n",
      "Epoch 2/15\n",
      "5/8 [=================>............] - ETA: 0s - loss: 0.0971"
     ]
    },
    {
     "name": "stderr",
     "output_type": "stream",
     "text": [
      "2022-07-16 21:33:21.903926: I tensorflow/core/grappler/optimizers/custom_graph_optimizer_registry.cc:113] Plugin optimizer for device_type GPU is enabled.\n"
     ]
    },
    {
     "name": "stdout",
     "output_type": "stream",
     "text": [
      "8/8 [==============================] - 0s 18ms/step - loss: 0.1002 - val_loss: 0.0654\n",
      "Epoch 3/15\n",
      "8/8 [==============================] - 0s 20ms/step - loss: 0.0945 - val_loss: 0.0609\n",
      "Epoch 4/15\n",
      "8/8 [==============================] - 0s 18ms/step - loss: 0.0883 - val_loss: 0.0559\n",
      "Epoch 5/15\n",
      "8/8 [==============================] - 0s 18ms/step - loss: 0.0813 - val_loss: 0.0502\n",
      "Epoch 6/15\n",
      "8/8 [==============================] - 0s 18ms/step - loss: 0.0733 - val_loss: 0.0436\n",
      "Epoch 7/15\n",
      "8/8 [==============================] - 0s 18ms/step - loss: 0.0641 - val_loss: 0.0365\n",
      "Epoch 8/15\n",
      "8/8 [==============================] - 0s 20ms/step - loss: 0.0538 - val_loss: 0.0289\n",
      "Epoch 9/15\n",
      "8/8 [==============================] - 0s 18ms/step - loss: 0.0433 - val_loss: 0.0215\n",
      "Epoch 10/15\n",
      "8/8 [==============================] - 0s 19ms/step - loss: 0.0325 - val_loss: 0.0152\n",
      "Epoch 11/15\n",
      "8/8 [==============================] - 0s 17ms/step - loss: 0.0231 - val_loss: 0.0106\n",
      "Epoch 12/15\n",
      "8/8 [==============================] - 0s 17ms/step - loss: 0.0163 - val_loss: 0.0077\n",
      "Epoch 13/15\n",
      "8/8 [==============================] - 0s 17ms/step - loss: 0.0106 - val_loss: 0.0063\n",
      "Epoch 14/15\n",
      "8/8 [==============================] - 0s 17ms/step - loss: 0.0073 - val_loss: 0.0061\n",
      "Epoch 15/15\n",
      "8/8 [==============================] - 0s 17ms/step - loss: 0.0055 - val_loss: 0.0065\n"
     ]
    }
   ],
   "source": [
    "X = np.asarray(apple[indicators], np.float32)\n",
    "Y = np.asarray(apple['Close'], np.float32)\n",
    "\n",
    "X_train, X_test, y_train, y_test = train_test_split(X, Y, test_size=0.2)\n",
    "\n",
    "y_train = y_train.reshape(-1,1)\n",
    "mms_X = MinMaxScaler()\n",
    "mms_y = MinMaxScaler()\n",
    "\n",
    "scaler_x = mms_X.fit(X_train)\n",
    "scaler_y = mms_y.fit(y_train)\n",
    "\n",
    "X_train = scaler_x.transform(X_train)\n",
    "y_train = scaler_y.transform(y_train)\n",
    "\n",
    "X_test = scaler_x.transform(X_test)\n",
    "y_test = y_test.reshape(-1,1)\n",
    "y_test = scaler_y.transform(y_test)\n",
    "\n",
    "pca = PCA(n_components=4)\n",
    "\n",
    "X_train= pca.fit_transform(X_train)\n",
    "X_test = pca.transform(X_test)\n",
    "\n",
    "X_train = np.expand_dims(X_train, axis=1)\n",
    "X_test = np.expand_dims(X_test, axis=1)\n",
    "\n",
    "print(X_test[0].shape)\n",
    "\n",
    "# Defining ANN neural network\n",
    "model = Sequential()\n",
    "model.add(LSTM(units=50, input_shape=(1,4), activation='relu'))\n",
    "model.add(Dense(units=50,activation = 'relu'))\n",
    "model.add(Dense(1, activation='sigmoid'))\n",
    "\n",
    "# Compiling the model\n",
    "model.compile(loss='mean_squared_error', optimizer='adam')\n",
    "\n",
    "# Fitting the ANN to the Training set\n",
    "history = model.fit(X_train, y_train ,batch_size = 10, validation_data = (X_test, y_test), epochs = 15, verbose=1)\n",
    "\n",
    "#save the model\n",
    "model.save(r'../models/AAPL_lstm.h5')"
   ]
  },
  {
   "cell_type": "markdown",
   "id": "b76f5b13",
   "metadata": {},
   "source": [
    "# Training LSTM model for GOOG"
   ]
  },
  {
   "cell_type": "code",
   "execution_count": 72,
   "id": "2e81e871",
   "metadata": {},
   "outputs": [
    {
     "name": "stdout",
     "output_type": "stream",
     "text": [
      "(1, 4)\n",
      "WARNING:tensorflow:Layer lstm_14 will not use cuDNN kernels since it doesn't meet the criteria. It will use a generic GPU kernel as fallback when running on GPU.\n",
      "Epoch 1/15\n",
      "1/8 [==>...........................] - ETA: 3s - loss: 0.0542"
     ]
    },
    {
     "name": "stderr",
     "output_type": "stream",
     "text": [
      "2022-07-15 03:04:51.651000: I tensorflow/core/grappler/optimizers/custom_graph_optimizer_registry.cc:113] Plugin optimizer for device_type GPU is enabled.\n"
     ]
    },
    {
     "name": "stdout",
     "output_type": "stream",
     "text": [
      "8/8 [==============================] - 1s 37ms/step - loss: 0.0620 - val_loss: 0.0509\n",
      "Epoch 2/15\n",
      "8/8 [==============================] - 0s 13ms/step - loss: 0.0575 - val_loss: 0.0466\n",
      "Epoch 3/15\n",
      "1/8 [==>...........................] - ETA: 0s - loss: 0.0639"
     ]
    },
    {
     "name": "stderr",
     "output_type": "stream",
     "text": [
      "2022-07-15 03:04:52.038851: I tensorflow/core/grappler/optimizers/custom_graph_optimizer_registry.cc:113] Plugin optimizer for device_type GPU is enabled.\n"
     ]
    },
    {
     "name": "stdout",
     "output_type": "stream",
     "text": [
      "8/8 [==============================] - 0s 13ms/step - loss: 0.0532 - val_loss: 0.0421\n",
      "Epoch 4/15\n",
      "8/8 [==============================] - 0s 13ms/step - loss: 0.0488 - val_loss: 0.0370\n",
      "Epoch 5/15\n",
      "8/8 [==============================] - 0s 13ms/step - loss: 0.0436 - val_loss: 0.0317\n",
      "Epoch 6/15\n",
      "8/8 [==============================] - 0s 12ms/step - loss: 0.0380 - val_loss: 0.0261\n",
      "Epoch 7/15\n",
      "8/8 [==============================] - 0s 12ms/step - loss: 0.0321 - val_loss: 0.0206\n",
      "Epoch 8/15\n",
      "8/8 [==============================] - 0s 12ms/step - loss: 0.0264 - val_loss: 0.0155\n",
      "Epoch 9/15\n",
      "8/8 [==============================] - 0s 13ms/step - loss: 0.0210 - val_loss: 0.0114\n",
      "Epoch 10/15\n",
      "8/8 [==============================] - 0s 12ms/step - loss: 0.0166 - val_loss: 0.0084\n",
      "Epoch 11/15\n",
      "8/8 [==============================] - 0s 12ms/step - loss: 0.0136 - val_loss: 0.0065\n",
      "Epoch 12/15\n",
      "8/8 [==============================] - 0s 12ms/step - loss: 0.0110 - val_loss: 0.0055\n",
      "Epoch 13/15\n",
      "8/8 [==============================] - 0s 13ms/step - loss: 0.0099 - val_loss: 0.0048\n",
      "Epoch 14/15\n",
      "8/8 [==============================] - 0s 12ms/step - loss: 0.0089 - val_loss: 0.0046\n",
      "Epoch 15/15\n",
      "8/8 [==============================] - 0s 12ms/step - loss: 0.0082 - val_loss: 0.0046\n"
     ]
    }
   ],
   "source": [
    "X = np.asarray(google[indicators], np.float32)\n",
    "Y = np.asarray(google['Close'], np.float32)\n",
    "\n",
    "X_train, X_test, y_train, y_test = train_test_split(X, Y, test_size=0.2)\n",
    "\n",
    "y_train = y_train.reshape(-1,1)\n",
    "mms_X = MinMaxScaler()\n",
    "mms_y = MinMaxScaler()\n",
    "\n",
    "scaler_x = mms_X.fit(X_train)\n",
    "scaler_y = mms_y.fit(y_train)\n",
    "\n",
    "X_train = scaler_x.transform(X_train)\n",
    "y_train = scaler_y.transform(y_train)\n",
    "\n",
    "X_test = scaler_x.transform(X_test)\n",
    "y_test = y_test.reshape(-1,1)\n",
    "y_test = scaler_y.transform(y_test)\n",
    "\n",
    "pca = PCA(n_components=4)\n",
    "\n",
    "X_train= pca.fit_transform(X_train)\n",
    "X_test = pca.transform(X_test)\n",
    "\n",
    "X_train = np.expand_dims(X_train, axis=1)\n",
    "X_test = np.expand_dims(X_test, axis=1)\n",
    "\n",
    "print(X_test[0].shape)\n",
    "\n",
    "# Defining ANN neural network\n",
    "model = Sequential()\n",
    "model.add(LSTM(units=50, input_shape=(1,4), activation='relu'))\n",
    "model.add(Dense(units=50,activation = 'relu'))\n",
    "model.add(Dense(1, activation='sigmoid'))\n",
    "\n",
    "# Compiling the model\n",
    "model.compile(loss='mean_squared_error', optimizer='adam')\n",
    "\n",
    "# Fitting the ANN to the Training set\n",
    "history = model.fit(X_train, y_train ,batch_size = 10, validation_data = (X_test, y_test), epochs = 15, verbose=1)\n",
    "\n",
    "#save the model\n",
    "model.save(r'../models/GOOG_lstm.h5')"
   ]
  },
  {
   "cell_type": "markdown",
   "id": "87ee963c",
   "metadata": {},
   "source": [
    "# Training LSTM model for TSLA"
   ]
  },
  {
   "cell_type": "code",
   "execution_count": 74,
   "id": "6631115e",
   "metadata": {},
   "outputs": [
    {
     "name": "stdout",
     "output_type": "stream",
     "text": [
      "(1, 4)\n",
      "WARNING:tensorflow:Layer lstm_15 will not use cuDNN kernels since it doesn't meet the criteria. It will use a generic GPU kernel as fallback when running on GPU.\n",
      "Epoch 1/15\n",
      "1/8 [==>...........................] - ETA: 3s - loss: 0.0718"
     ]
    },
    {
     "name": "stderr",
     "output_type": "stream",
     "text": [
      "2022-07-15 03:05:42.111326: I tensorflow/core/grappler/optimizers/custom_graph_optimizer_registry.cc:113] Plugin optimizer for device_type GPU is enabled.\n"
     ]
    },
    {
     "name": "stdout",
     "output_type": "stream",
     "text": [
      "8/8 [==============================] - 1s 37ms/step - loss: 0.0944 - val_loss: 0.1005\n",
      "Epoch 2/15\n",
      "8/8 [==============================] - 0s 13ms/step - loss: 0.0883 - val_loss: 0.0949\n",
      "Epoch 3/15\n",
      "1/8 [==>...........................] - ETA: 0s - loss: 0.0965"
     ]
    },
    {
     "name": "stderr",
     "output_type": "stream",
     "text": [
      "2022-07-15 03:05:42.506625: I tensorflow/core/grappler/optimizers/custom_graph_optimizer_registry.cc:113] Plugin optimizer for device_type GPU is enabled.\n"
     ]
    },
    {
     "name": "stdout",
     "output_type": "stream",
     "text": [
      "8/8 [==============================] - 0s 14ms/step - loss: 0.0839 - val_loss: 0.0898\n",
      "Epoch 4/15\n",
      "8/8 [==============================] - 0s 12ms/step - loss: 0.0790 - val_loss: 0.0843\n",
      "Epoch 5/15\n",
      "8/8 [==============================] - 0s 13ms/step - loss: 0.0732 - val_loss: 0.0779\n",
      "Epoch 6/15\n",
      "8/8 [==============================] - 0s 12ms/step - loss: 0.0666 - val_loss: 0.0703\n",
      "Epoch 7/15\n",
      "8/8 [==============================] - 0s 12ms/step - loss: 0.0589 - val_loss: 0.0619\n",
      "Epoch 8/15\n",
      "8/8 [==============================] - 0s 12ms/step - loss: 0.0505 - val_loss: 0.0528\n",
      "Epoch 9/15\n",
      "8/8 [==============================] - 0s 13ms/step - loss: 0.0422 - val_loss: 0.0436\n",
      "Epoch 10/15\n",
      "8/8 [==============================] - 0s 12ms/step - loss: 0.0339 - val_loss: 0.0338\n",
      "Epoch 11/15\n",
      "8/8 [==============================] - 0s 12ms/step - loss: 0.0255 - val_loss: 0.0245\n",
      "Epoch 12/15\n",
      "8/8 [==============================] - 0s 12ms/step - loss: 0.0184 - val_loss: 0.0163\n",
      "Epoch 13/15\n",
      "8/8 [==============================] - 0s 13ms/step - loss: 0.0127 - val_loss: 0.0104\n",
      "Epoch 14/15\n",
      "8/8 [==============================] - 0s 12ms/step - loss: 0.0083 - val_loss: 0.0067\n",
      "Epoch 15/15\n",
      "8/8 [==============================] - 0s 12ms/step - loss: 0.0058 - val_loss: 0.0043\n"
     ]
    }
   ],
   "source": [
    "X = np.asarray(tesla[indicators], np.float32)\n",
    "Y = np.asarray(tesla['Close'], np.float32)\n",
    "\n",
    "X_train, X_test, y_train, y_test = train_test_split(X, Y, test_size=0.2)\n",
    "\n",
    "y_train = y_train.reshape(-1,1)\n",
    "mms_X = MinMaxScaler()\n",
    "mms_y = MinMaxScaler()\n",
    "\n",
    "scaler_x = mms_X.fit(X_train)\n",
    "scaler_y = mms_y.fit(y_train)\n",
    "\n",
    "X_train = scaler_x.transform(X_train)\n",
    "y_train = scaler_y.transform(y_train)\n",
    "\n",
    "X_test = scaler_x.transform(X_test)\n",
    "y_test = y_test.reshape(-1,1)\n",
    "y_test = scaler_y.transform(y_test)\n",
    "\n",
    "pca = PCA(n_components=4)\n",
    "\n",
    "X_train= pca.fit_transform(X_train)\n",
    "X_test = pca.transform(X_test)\n",
    "\n",
    "X_train = np.expand_dims(X_train, axis=1)\n",
    "X_test = np.expand_dims(X_test, axis=1)\n",
    "\n",
    "print(X_test[0].shape)\n",
    "\n",
    "# Defining ANN neural network\n",
    "model = Sequential()\n",
    "model.add(LSTM(units=50, input_shape=(1,4), activation='relu'))\n",
    "model.add(Dense(units=50,activation = 'relu'))\n",
    "model.add(Dense(1, activation='sigmoid'))\n",
    "\n",
    "# Compiling the model\n",
    "model.compile(loss='mean_squared_error', optimizer='adam')\n",
    "\n",
    "# Fitting the ANN to the Training set\n",
    "history = model.fit(X_train, y_train ,batch_size = 10, validation_data = (X_test, y_test), epochs = 15, verbose=1)\n",
    "\n",
    "#save the model\n",
    "model.save(r'../models/TSLA_lstm.h5')"
   ]
  },
  {
   "cell_type": "markdown",
   "id": "9a986279",
   "metadata": {},
   "source": [
    "# Training LSTM model for MSFT"
   ]
  },
  {
   "cell_type": "code",
   "execution_count": 76,
   "id": "11ae7e2e",
   "metadata": {},
   "outputs": [
    {
     "name": "stdout",
     "output_type": "stream",
     "text": [
      "(1, 4)\n",
      "WARNING:tensorflow:Layer lstm_16 will not use cuDNN kernels since it doesn't meet the criteria. It will use a generic GPU kernel as fallback when running on GPU.\n",
      "Epoch 1/15\n",
      "1/8 [==>...........................] - ETA: 3s - loss: 0.1000"
     ]
    },
    {
     "name": "stderr",
     "output_type": "stream",
     "text": [
      "2022-07-15 03:06:41.397522: I tensorflow/core/grappler/optimizers/custom_graph_optimizer_registry.cc:113] Plugin optimizer for device_type GPU is enabled.\n"
     ]
    },
    {
     "name": "stdout",
     "output_type": "stream",
     "text": [
      "8/8 [==============================] - 1s 37ms/step - loss: 0.0900 - val_loss: 0.0970\n",
      "Epoch 2/15\n",
      "8/8 [==============================] - 0s 13ms/step - loss: 0.0837 - val_loss: 0.0904\n",
      "Epoch 3/15\n",
      "1/8 [==>...........................] - ETA: 0s - loss: 0.0491"
     ]
    },
    {
     "name": "stderr",
     "output_type": "stream",
     "text": [
      "2022-07-15 03:06:41.793402: I tensorflow/core/grappler/optimizers/custom_graph_optimizer_registry.cc:113] Plugin optimizer for device_type GPU is enabled.\n"
     ]
    },
    {
     "name": "stdout",
     "output_type": "stream",
     "text": [
      "8/8 [==============================] - 0s 14ms/step - loss: 0.0781 - val_loss: 0.0835\n",
      "Epoch 4/15\n",
      "8/8 [==============================] - 0s 13ms/step - loss: 0.0717 - val_loss: 0.0756\n",
      "Epoch 5/15\n",
      "8/8 [==============================] - 0s 14ms/step - loss: 0.0643 - val_loss: 0.0664\n",
      "Epoch 6/15\n",
      "8/8 [==============================] - 0s 12ms/step - loss: 0.0560 - val_loss: 0.0559\n",
      "Epoch 7/15\n",
      "8/8 [==============================] - 0s 12ms/step - loss: 0.0470 - val_loss: 0.0444\n",
      "Epoch 8/15\n",
      "8/8 [==============================] - 0s 12ms/step - loss: 0.0372 - val_loss: 0.0332\n",
      "Epoch 9/15\n",
      "8/8 [==============================] - 0s 13ms/step - loss: 0.0281 - val_loss: 0.0233\n",
      "Epoch 10/15\n",
      "8/8 [==============================] - 0s 13ms/step - loss: 0.0204 - val_loss: 0.0153\n",
      "Epoch 11/15\n",
      "8/8 [==============================] - 0s 12ms/step - loss: 0.0147 - val_loss: 0.0093\n",
      "Epoch 12/15\n",
      "8/8 [==============================] - 0s 12ms/step - loss: 0.0103 - val_loss: 0.0058\n",
      "Epoch 13/15\n",
      "8/8 [==============================] - 0s 12ms/step - loss: 0.0074 - val_loss: 0.0040\n",
      "Epoch 14/15\n",
      "8/8 [==============================] - 0s 12ms/step - loss: 0.0060 - val_loss: 0.0032\n",
      "Epoch 15/15\n",
      "8/8 [==============================] - 0s 12ms/step - loss: 0.0051 - val_loss: 0.0028\n"
     ]
    }
   ],
   "source": [
    "X = np.asarray(microsoft[indicators], np.float32)\n",
    "Y = np.asarray(microsoft['Close'], np.float32)\n",
    "\n",
    "X_train, X_test, y_train, y_test = train_test_split(X, Y, test_size=0.2)\n",
    "\n",
    "y_train = y_train.reshape(-1,1)\n",
    "mms_X = MinMaxScaler()\n",
    "mms_y = MinMaxScaler()\n",
    "\n",
    "scaler_x = mms_X.fit(X_train)\n",
    "scaler_y = mms_y.fit(y_train)\n",
    "\n",
    "X_train = scaler_x.transform(X_train)\n",
    "y_train = scaler_y.transform(y_train)\n",
    "\n",
    "X_test = scaler_x.transform(X_test)\n",
    "y_test = y_test.reshape(-1,1)\n",
    "y_test = scaler_y.transform(y_test)\n",
    "\n",
    "pca = PCA(n_components=4)\n",
    "\n",
    "X_train= pca.fit_transform(X_train)\n",
    "X_test = pca.transform(X_test)\n",
    "\n",
    "X_train = np.expand_dims(X_train, axis=1)\n",
    "X_test = np.expand_dims(X_test, axis=1)\n",
    "\n",
    "print(X_test[0].shape)\n",
    "\n",
    "# Defining ANN neural network\n",
    "model = Sequential()\n",
    "model.add(LSTM(units=50, input_shape=(1,4), activation='relu'))\n",
    "model.add(Dense(units=50,activation = 'relu'))\n",
    "model.add(Dense(1, activation='sigmoid'))\n",
    "\n",
    "# Compiling the model\n",
    "model.compile(loss='mean_squared_error', optimizer='adam')\n",
    "\n",
    "# Fitting the ANN to the Training set\n",
    "history = model.fit(X_train, y_train ,batch_size = 10, validation_data = (X_test, y_test), epochs = 15, verbose=1)\n",
    "\n",
    "#save the model\n",
    "model.save(r'../models/MSFT_lstm.h5')"
   ]
  },
  {
   "cell_type": "markdown",
   "id": "31383ab7",
   "metadata": {},
   "source": [
    "# Training GRU model for AAPL"
   ]
  },
  {
   "cell_type": "code",
   "execution_count": 79,
   "id": "eb269992",
   "metadata": {},
   "outputs": [
    {
     "name": "stdout",
     "output_type": "stream",
     "text": [
      "(1, 4)\n",
      "WARNING:tensorflow:Layer gru will not use cuDNN kernels since it doesn't meet the criteria. It will use a generic GPU kernel as fallback when running on GPU.\n",
      "Epoch 1/15\n"
     ]
    },
    {
     "name": "stderr",
     "output_type": "stream",
     "text": [
      "2022-07-15 04:02:25.526728: I tensorflow/core/grappler/optimizers/custom_graph_optimizer_registry.cc:113] Plugin optimizer for device_type GPU is enabled.\n"
     ]
    },
    {
     "name": "stdout",
     "output_type": "stream",
     "text": [
      "8/8 [==============================] - 1s 44ms/step - loss: 0.0764 - val_loss: 0.0886\n",
      "Epoch 2/15\n",
      "8/8 [==============================] - 0s 16ms/step - loss: 0.0635 - val_loss: 0.0729\n",
      "Epoch 3/15\n"
     ]
    },
    {
     "name": "stderr",
     "output_type": "stream",
     "text": [
      "2022-07-15 04:02:26.115560: I tensorflow/core/grappler/optimizers/custom_graph_optimizer_registry.cc:113] Plugin optimizer for device_type GPU is enabled.\n"
     ]
    },
    {
     "name": "stdout",
     "output_type": "stream",
     "text": [
      "8/8 [==============================] - 0s 14ms/step - loss: 0.0507 - val_loss: 0.0573\n",
      "Epoch 4/15\n",
      "8/8 [==============================] - 0s 13ms/step - loss: 0.0381 - val_loss: 0.0425\n",
      "Epoch 5/15\n",
      "8/8 [==============================] - 0s 13ms/step - loss: 0.0272 - val_loss: 0.0283\n",
      "Epoch 6/15\n",
      "8/8 [==============================] - 0s 13ms/step - loss: 0.0176 - val_loss: 0.0170\n",
      "Epoch 7/15\n",
      "8/8 [==============================] - 0s 14ms/step - loss: 0.0105 - val_loss: 0.0094\n",
      "Epoch 8/15\n",
      "8/8 [==============================] - 0s 13ms/step - loss: 0.0062 - val_loss: 0.0053\n",
      "Epoch 9/15\n",
      "8/8 [==============================] - 0s 13ms/step - loss: 0.0043 - val_loss: 0.0034\n",
      "Epoch 10/15\n",
      "8/8 [==============================] - 0s 13ms/step - loss: 0.0038 - val_loss: 0.0027\n",
      "Epoch 11/15\n",
      "8/8 [==============================] - 0s 13ms/step - loss: 0.0035 - val_loss: 0.0025\n",
      "Epoch 12/15\n",
      "8/8 [==============================] - 0s 13ms/step - loss: 0.0034 - val_loss: 0.0024\n",
      "Epoch 13/15\n",
      "8/8 [==============================] - 0s 14ms/step - loss: 0.0033 - val_loss: 0.0024\n",
      "Epoch 14/15\n",
      "8/8 [==============================] - 0s 14ms/step - loss: 0.0032 - val_loss: 0.0024\n",
      "Epoch 15/15\n",
      "8/8 [==============================] - 0s 14ms/step - loss: 0.0032 - val_loss: 0.0024\n"
     ]
    }
   ],
   "source": [
    "X = np.asarray(apple[indicators], np.float32)\n",
    "Y = np.asarray(apple['Close'], np.float32)\n",
    "\n",
    "X_train, X_test, y_train, y_test = train_test_split(X, Y, test_size=0.2)\n",
    "\n",
    "y_train = y_train.reshape(-1,1)\n",
    "mms_X = MinMaxScaler()\n",
    "mms_y = MinMaxScaler()\n",
    "\n",
    "scaler_x = mms_X.fit(X_train)\n",
    "scaler_y = mms_y.fit(y_train)\n",
    "\n",
    "X_train = scaler_x.transform(X_train)\n",
    "y_train = scaler_y.transform(y_train)\n",
    "\n",
    "X_test = scaler_x.transform(X_test)\n",
    "y_test = y_test.reshape(-1,1)\n",
    "y_test = scaler_y.transform(y_test)\n",
    "\n",
    "pca = PCA(n_components=4)\n",
    "\n",
    "X_train= pca.fit_transform(X_train)\n",
    "X_test = pca.transform(X_test)\n",
    "\n",
    "X_train = np.expand_dims(X_train, axis=1)\n",
    "X_test = np.expand_dims(X_test, axis=1)\n",
    "\n",
    "print(X_test[0].shape)\n",
    "\n",
    "# Defining ANN neural network\n",
    "model = Sequential()\n",
    "model.add(GRU(units=50, input_shape=(1,4), activation='relu'))\n",
    "model.add(Dense(units=50,activation = 'relu'))\n",
    "model.add(Dense(1, activation='sigmoid'))\n",
    "\n",
    "# Compiling the model\n",
    "model.compile(loss='mean_squared_error', optimizer='adam')\n",
    "\n",
    "# Fitting the ANN to the Training set\n",
    "history = model.fit(X_train, y_train ,batch_size = 10, validation_data = (X_test, y_test), epochs = 15, verbose=1)\n",
    "\n",
    "#save the model\n",
    "model.save(r'../models/AAPL_gru.h5')"
   ]
  },
  {
   "cell_type": "markdown",
   "id": "e816e208",
   "metadata": {},
   "source": [
    "# Training GRU model for GOOG"
   ]
  },
  {
   "cell_type": "code",
   "execution_count": 80,
   "id": "6cefccd9",
   "metadata": {},
   "outputs": [
    {
     "name": "stdout",
     "output_type": "stream",
     "text": [
      "(1, 4)\n",
      "WARNING:tensorflow:Layer gru_1 will not use cuDNN kernels since it doesn't meet the criteria. It will use a generic GPU kernel as fallback when running on GPU.\n",
      "Epoch 1/15\n"
     ]
    },
    {
     "name": "stderr",
     "output_type": "stream",
     "text": [
      "2022-07-15 04:03:35.654852: I tensorflow/core/grappler/optimizers/custom_graph_optimizer_registry.cc:113] Plugin optimizer for device_type GPU is enabled.\n"
     ]
    },
    {
     "name": "stdout",
     "output_type": "stream",
     "text": [
      "8/8 [==============================] - 1s 40ms/step - loss: 0.0586 - val_loss: 0.0598\n",
      "Epoch 2/15\n",
      "8/8 [==============================] - 0s 16ms/step - loss: 0.0517 - val_loss: 0.0506\n",
      "Epoch 3/15\n",
      "1/8 [==>...........................] - ETA: 0s - loss: 0.0790"
     ]
    },
    {
     "name": "stderr",
     "output_type": "stream",
     "text": [
      "2022-07-15 04:03:36.106830: I tensorflow/core/grappler/optimizers/custom_graph_optimizer_registry.cc:113] Plugin optimizer for device_type GPU is enabled.\n"
     ]
    },
    {
     "name": "stdout",
     "output_type": "stream",
     "text": [
      "8/8 [==============================] - 0s 15ms/step - loss: 0.0453 - val_loss: 0.0421\n",
      "Epoch 4/15\n",
      "8/8 [==============================] - 0s 13ms/step - loss: 0.0390 - val_loss: 0.0337\n",
      "Epoch 5/15\n",
      "8/8 [==============================] - 0s 15ms/step - loss: 0.0332 - val_loss: 0.0260\n",
      "Epoch 6/15\n",
      "8/8 [==============================] - 0s 13ms/step - loss: 0.0270 - val_loss: 0.0198\n",
      "Epoch 7/15\n",
      "8/8 [==============================] - 0s 13ms/step - loss: 0.0221 - val_loss: 0.0149\n",
      "Epoch 8/15\n",
      "8/8 [==============================] - 0s 14ms/step - loss: 0.0170 - val_loss: 0.0118\n",
      "Epoch 9/15\n",
      "8/8 [==============================] - 0s 13ms/step - loss: 0.0137 - val_loss: 0.0095\n",
      "Epoch 10/15\n",
      "8/8 [==============================] - 0s 13ms/step - loss: 0.0107 - val_loss: 0.0082\n",
      "Epoch 11/15\n",
      "8/8 [==============================] - 0s 13ms/step - loss: 0.0084 - val_loss: 0.0075\n",
      "Epoch 12/15\n",
      "8/8 [==============================] - 0s 13ms/step - loss: 0.0070 - val_loss: 0.0070\n",
      "Epoch 13/15\n",
      "8/8 [==============================] - 0s 13ms/step - loss: 0.0062 - val_loss: 0.0068\n",
      "Epoch 14/15\n",
      "8/8 [==============================] - 0s 14ms/step - loss: 0.0055 - val_loss: 0.0069\n",
      "Epoch 15/15\n",
      "8/8 [==============================] - 0s 14ms/step - loss: 0.0052 - val_loss: 0.0071\n"
     ]
    }
   ],
   "source": [
    "X = np.asarray(google[indicators], np.float32)\n",
    "Y = np.asarray(google['Close'], np.float32)\n",
    "\n",
    "X_train, X_test, y_train, y_test = train_test_split(X, Y, test_size=0.2)\n",
    "\n",
    "y_train = y_train.reshape(-1,1)\n",
    "mms_X = MinMaxScaler()\n",
    "mms_y = MinMaxScaler()\n",
    "\n",
    "scaler_x = mms_X.fit(X_train)\n",
    "scaler_y = mms_y.fit(y_train)\n",
    "\n",
    "X_train = scaler_x.transform(X_train)\n",
    "y_train = scaler_y.transform(y_train)\n",
    "\n",
    "X_test = scaler_x.transform(X_test)\n",
    "y_test = y_test.reshape(-1,1)\n",
    "y_test = scaler_y.transform(y_test)\n",
    "\n",
    "pca = PCA(n_components=4)\n",
    "\n",
    "X_train= pca.fit_transform(X_train)\n",
    "X_test = pca.transform(X_test)\n",
    "\n",
    "X_train = np.expand_dims(X_train, axis=1)\n",
    "X_test = np.expand_dims(X_test, axis=1)\n",
    "\n",
    "print(X_test[0].shape)\n",
    "\n",
    "# Defining ANN neural network\n",
    "model = Sequential()\n",
    "model.add(GRU(units=50, input_shape=(1,4), activation='relu'))\n",
    "model.add(Dense(units=50,activation = 'relu'))\n",
    "model.add(Dense(1, activation='sigmoid'))\n",
    "\n",
    "# Compiling the model\n",
    "model.compile(loss='mean_squared_error', optimizer='adam')\n",
    "\n",
    "# Fitting the ANN to the Training set\n",
    "history = model.fit(X_train, y_train ,batch_size = 10, validation_data = (X_test, y_test), epochs = 15, verbose=1)\n",
    "\n",
    "#save the model\n",
    "model.save(r'../models/GOOG_gru.h5')"
   ]
  },
  {
   "cell_type": "markdown",
   "id": "7947eebe",
   "metadata": {},
   "source": [
    "# Training GRU model for TSLA"
   ]
  },
  {
   "cell_type": "code",
   "execution_count": 81,
   "id": "dfc5600c",
   "metadata": {},
   "outputs": [
    {
     "name": "stdout",
     "output_type": "stream",
     "text": [
      "(1, 4)\n",
      "WARNING:tensorflow:Layer gru_2 will not use cuDNN kernels since it doesn't meet the criteria. It will use a generic GPU kernel as fallback when running on GPU.\n",
      "Epoch 1/15\n"
     ]
    },
    {
     "name": "stderr",
     "output_type": "stream",
     "text": [
      "2022-07-15 04:04:24.361552: I tensorflow/core/grappler/optimizers/custom_graph_optimizer_registry.cc:113] Plugin optimizer for device_type GPU is enabled.\n"
     ]
    },
    {
     "name": "stdout",
     "output_type": "stream",
     "text": [
      "8/8 [==============================] - 1s 43ms/step - loss: 0.0940 - val_loss: 0.1018\n",
      "Epoch 2/15\n",
      "8/8 [==============================] - 0s 16ms/step - loss: 0.0812 - val_loss: 0.0899\n",
      "Epoch 3/15\n",
      "1/8 [==>...........................] - ETA: 0s - loss: 0.0925"
     ]
    },
    {
     "name": "stderr",
     "output_type": "stream",
     "text": [
      "2022-07-15 04:04:24.815582: I tensorflow/core/grappler/optimizers/custom_graph_optimizer_registry.cc:113] Plugin optimizer for device_type GPU is enabled.\n"
     ]
    },
    {
     "name": "stdout",
     "output_type": "stream",
     "text": [
      "8/8 [==============================] - 0s 15ms/step - loss: 0.0714 - val_loss: 0.0789\n",
      "Epoch 4/15\n",
      "8/8 [==============================] - 0s 14ms/step - loss: 0.0612 - val_loss: 0.0677\n",
      "Epoch 5/15\n",
      "8/8 [==============================] - 0s 13ms/step - loss: 0.0519 - val_loss: 0.0554\n",
      "Epoch 6/15\n",
      "8/8 [==============================] - 0s 13ms/step - loss: 0.0415 - val_loss: 0.0430\n",
      "Epoch 7/15\n",
      "8/8 [==============================] - 0s 13ms/step - loss: 0.0320 - val_loss: 0.0319\n",
      "Epoch 8/15\n",
      "8/8 [==============================] - 0s 13ms/step - loss: 0.0232 - val_loss: 0.0230\n",
      "Epoch 9/15\n",
      "8/8 [==============================] - 0s 13ms/step - loss: 0.0162 - val_loss: 0.0161\n",
      "Epoch 10/15\n",
      "8/8 [==============================] - 0s 14ms/step - loss: 0.0113 - val_loss: 0.0110\n",
      "Epoch 11/15\n",
      "8/8 [==============================] - 0s 13ms/step - loss: 0.0075 - val_loss: 0.0080\n",
      "Epoch 12/15\n",
      "8/8 [==============================] - 0s 14ms/step - loss: 0.0054 - val_loss: 0.0062\n",
      "Epoch 13/15\n",
      "8/8 [==============================] - 0s 15ms/step - loss: 0.0044 - val_loss: 0.0051\n",
      "Epoch 14/15\n",
      "8/8 [==============================] - 0s 15ms/step - loss: 0.0039 - val_loss: 0.0044\n",
      "Epoch 15/15\n",
      "8/8 [==============================] - 0s 15ms/step - loss: 0.0037 - val_loss: 0.0039\n"
     ]
    }
   ],
   "source": [
    "X = np.asarray(tesla[indicators], np.float32)\n",
    "Y = np.asarray(tesla['Close'], np.float32)\n",
    "\n",
    "X_train, X_test, y_train, y_test = train_test_split(X, Y, test_size=0.2)\n",
    "\n",
    "y_train = y_train.reshape(-1,1)\n",
    "mms_X = MinMaxScaler()\n",
    "mms_y = MinMaxScaler()\n",
    "\n",
    "scaler_x = mms_X.fit(X_train)\n",
    "scaler_y = mms_y.fit(y_train)\n",
    "\n",
    "X_train = scaler_x.transform(X_train)\n",
    "y_train = scaler_y.transform(y_train)\n",
    "\n",
    "X_test = scaler_x.transform(X_test)\n",
    "y_test = y_test.reshape(-1,1)\n",
    "y_test = scaler_y.transform(y_test)\n",
    "\n",
    "pca = PCA(n_components=4)\n",
    "\n",
    "X_train= pca.fit_transform(X_train)\n",
    "X_test = pca.transform(X_test)\n",
    "\n",
    "X_train = np.expand_dims(X_train, axis=1)\n",
    "X_test = np.expand_dims(X_test, axis=1)\n",
    "\n",
    "print(X_test[0].shape)\n",
    "\n",
    "# Defining ANN neural network\n",
    "model = Sequential()\n",
    "model.add(GRU(units=50, input_shape=(1,4), activation='relu'))\n",
    "model.add(Dense(units=50,activation = 'relu'))\n",
    "model.add(Dense(1, activation='sigmoid'))\n",
    "\n",
    "# Compiling the model\n",
    "model.compile(loss='mean_squared_error', optimizer='adam')\n",
    "\n",
    "# Fitting the ANN to the Training set\n",
    "history = model.fit(X_train, y_train ,batch_size = 10, validation_data = (X_test, y_test), epochs = 15, verbose=1)\n",
    "\n",
    "#save the model\n",
    "model.save(r'../models/TSLA_gru.h5')"
   ]
  },
  {
   "cell_type": "markdown",
   "id": "d4069e87",
   "metadata": {},
   "source": [
    "# Training GRU model for MSFT"
   ]
  },
  {
   "cell_type": "code",
   "execution_count": 82,
   "id": "dc056feb",
   "metadata": {},
   "outputs": [
    {
     "name": "stdout",
     "output_type": "stream",
     "text": [
      "(1, 4)\n",
      "WARNING:tensorflow:Layer gru_3 will not use cuDNN kernels since it doesn't meet the criteria. It will use a generic GPU kernel as fallback when running on GPU.\n",
      "Epoch 1/15\n"
     ]
    },
    {
     "name": "stderr",
     "output_type": "stream",
     "text": [
      "2022-07-15 04:05:42.387812: I tensorflow/core/grappler/optimizers/custom_graph_optimizer_registry.cc:113] Plugin optimizer for device_type GPU is enabled.\n"
     ]
    },
    {
     "name": "stdout",
     "output_type": "stream",
     "text": [
      "8/8 [==============================] - 1s 41ms/step - loss: 0.0945 - val_loss: 0.0792\n",
      "Epoch 2/15\n",
      "8/8 [==============================] - 0s 15ms/step - loss: 0.0812 - val_loss: 0.0681\n",
      "Epoch 3/15\n",
      "1/8 [==>...........................] - ETA: 0s - loss: 0.0743"
     ]
    },
    {
     "name": "stderr",
     "output_type": "stream",
     "text": [
      "2022-07-15 04:05:42.830489: I tensorflow/core/grappler/optimizers/custom_graph_optimizer_registry.cc:113] Plugin optimizer for device_type GPU is enabled.\n"
     ]
    },
    {
     "name": "stdout",
     "output_type": "stream",
     "text": [
      "8/8 [==============================] - 0s 15ms/step - loss: 0.0703 - val_loss: 0.0573\n",
      "Epoch 4/15\n",
      "8/8 [==============================] - 0s 14ms/step - loss: 0.0590 - val_loss: 0.0467\n",
      "Epoch 5/15\n",
      "8/8 [==============================] - 0s 14ms/step - loss: 0.0483 - val_loss: 0.0363\n",
      "Epoch 6/15\n",
      "8/8 [==============================] - 0s 13ms/step - loss: 0.0376 - val_loss: 0.0269\n",
      "Epoch 7/15\n",
      "8/8 [==============================] - 0s 13ms/step - loss: 0.0290 - val_loss: 0.0184\n",
      "Epoch 8/15\n",
      "8/8 [==============================] - 0s 13ms/step - loss: 0.0211 - val_loss: 0.0122\n",
      "Epoch 9/15\n",
      "8/8 [==============================] - 0s 13ms/step - loss: 0.0157 - val_loss: 0.0077\n",
      "Epoch 10/15\n",
      "8/8 [==============================] - 0s 14ms/step - loss: 0.0113 - val_loss: 0.0050\n",
      "Epoch 11/15\n",
      "8/8 [==============================] - 0s 13ms/step - loss: 0.0082 - val_loss: 0.0038\n",
      "Epoch 12/15\n",
      "8/8 [==============================] - 0s 13ms/step - loss: 0.0064 - val_loss: 0.0036\n",
      "Epoch 13/15\n",
      "8/8 [==============================] - 0s 14ms/step - loss: 0.0053 - val_loss: 0.0036\n",
      "Epoch 14/15\n",
      "8/8 [==============================] - 0s 14ms/step - loss: 0.0048 - val_loss: 0.0036\n",
      "Epoch 15/15\n",
      "8/8 [==============================] - 0s 15ms/step - loss: 0.0044 - val_loss: 0.0036\n"
     ]
    }
   ],
   "source": [
    "X = np.asarray(microsoft[indicators], np.float32)\n",
    "Y = np.asarray(microsoft['Close'], np.float32)\n",
    "\n",
    "X_train, X_test, y_train, y_test = train_test_split(X, Y, test_size=0.2)\n",
    "\n",
    "y_train = y_train.reshape(-1,1)\n",
    "mms_X = MinMaxScaler()\n",
    "mms_y = MinMaxScaler()\n",
    "\n",
    "scaler_x = mms_X.fit(X_train)\n",
    "scaler_y = mms_y.fit(y_train)\n",
    "\n",
    "X_train = scaler_x.transform(X_train)\n",
    "y_train = scaler_y.transform(y_train)\n",
    "\n",
    "X_test = scaler_x.transform(X_test)\n",
    "y_test = y_test.reshape(-1,1)\n",
    "y_test = scaler_y.transform(y_test)\n",
    "\n",
    "pca = PCA(n_components=4)\n",
    "\n",
    "X_train= pca.fit_transform(X_train)\n",
    "X_test = pca.transform(X_test)\n",
    "\n",
    "X_train = np.expand_dims(X_train, axis=1)\n",
    "X_test = np.expand_dims(X_test, axis=1)\n",
    "\n",
    "print(X_test[0].shape)\n",
    "\n",
    "# Defining ANN neural network\n",
    "model = Sequential()\n",
    "model.add(GRU(units=50, input_shape=(1,4), activation='relu'))\n",
    "model.add(Dense(units=50,activation = 'relu'))\n",
    "model.add(Dense(1, activation='sigmoid'))\n",
    "\n",
    "# Compiling the model\n",
    "model.compile(loss='mean_squared_error', optimizer='adam')\n",
    "\n",
    "# Fitting the ANN to the Training set\n",
    "history = model.fit(X_train, y_train ,batch_size = 10, validation_data = (X_test, y_test), epochs = 15, verbose=1)\n",
    "\n",
    "#save the model\n",
    "model.save(r'../models/MSFT_gru.h5')"
   ]
  },
  {
   "cell_type": "markdown",
   "id": "888053c1",
   "metadata": {},
   "source": [
    "# Random Forest Regressor for AAPL"
   ]
  },
  {
   "cell_type": "code",
   "execution_count": null,
   "id": "5e199185",
   "metadata": {},
   "outputs": [],
   "source": [
    "X = np.asarray(apple[indicators], np.float32)\n",
    "Y = np.asarray(apple['Close'], np.float32)\n",
    "\n",
    "X_train, X_test, y_train, y_test = train_test_split(X, Y, test_size=0.2)\n",
    "\n",
    "y_train = y_train.reshape(-1,1)\n",
    "mms_X = MinMaxScaler()\n",
    "mms_y = MinMaxScaler()\n",
    "\n",
    "scaler_x = mms_X.fit(X_train)\n",
    "scaler_y = mms_y.fit(y_train)\n",
    "\n",
    "X_train = scaler_x.transform(X_train)\n",
    "y_train = scaler_y.transform(y_train)\n",
    "\n",
    "X_test = scaler_x.transform(X_test)\n",
    "y_test = y_test.reshape(-1,1)\n",
    "y_test = scaler_y.transform(y_test)\n",
    "\n",
    "pca = PCA(n_components=4)\n",
    "\n",
    "X_train= pca.fit_transform(X_train)\n",
    "X_test = pca.transform(X_test)\n",
    "\n",
    "X_train = np.expand_dims(X_train, axis=1)\n",
    "X_test = np.expand_dims(X_test, axis=1)\n",
    "\n",
    "print(X_test[0].shape)\n",
    "\n",
    "# Defining ANN neural network\n",
    "model = Sequential()\n",
    "model.add(GRU(units=50, input_shape=(1,4), activation='relu'))\n",
    "model.add(Dense(units=50,activation = 'relu'))\n",
    "model.add(Dense(1, activation='sigmoid'))\n",
    "\n",
    "# Compiling the model\n",
    "model.compile(loss='mean_squared_error', optimizer='adam')\n",
    "\n",
    "# Fitting the ANN to the Training set\n",
    "history = model.fit(X_train, y_train ,batch_size = 10, validation_data = (X_test, y_test), epochs = 15, verbose=1)\n",
    "\n",
    "#save the model\n",
    "model.save(r'../models/AAPL_gru.h5')"
   ]
  }
 ],
 "metadata": {
  "kernelspec": {
   "display_name": "Python 3 (ipykernel)",
   "language": "python",
   "name": "python3"
  },
  "language_info": {
   "codemirror_mode": {
    "name": "ipython",
    "version": 3
   },
   "file_extension": ".py",
   "mimetype": "text/x-python",
   "name": "python",
   "nbconvert_exporter": "python",
   "pygments_lexer": "ipython3",
   "version": "3.8.13"
  }
 },
 "nbformat": 4,
 "nbformat_minor": 5
}
