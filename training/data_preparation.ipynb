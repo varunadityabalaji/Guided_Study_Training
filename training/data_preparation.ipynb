{
 "cells": [
  {
   "cell_type": "markdown",
   "id": "d4f41995",
   "metadata": {},
   "source": [
    "# Data Preparation\n",
    "\n",
    "The data of the 4 stocks - AAPL,GOOG,MSFT and TSLA is obtained from yahoo finance and marketaux api service"
   ]
  },
  {
   "cell_type": "code",
   "execution_count": 1,
   "id": "ca8f02b1",
   "metadata": {},
   "outputs": [],
   "source": [
    "#importing the packages\n",
    "import pandas as pd\n",
    "import yfinance as yf\n",
    "import pandas as pd\n",
    "import pandas_datareader.data as web\n",
    "import pandas_ta as ta\n",
    "import http.client, urllib.parse\n",
    "import json\n",
    "from datetime import datetime\n",
    "import time"
   ]
  },
  {
   "cell_type": "code",
   "execution_count": 2,
   "id": "cc3001f6",
   "metadata": {},
   "outputs": [],
   "source": [
    "#function to create the required data for each stock\n",
    "def create_data(ticker,start_date,end_date):\n",
    "    df = web.DataReader(name=ticker, data_source='yahoo', start=start_date, end=end_date)\n",
    "    df['H-L'] = df['High'] - df['Low']\n",
    "    df['O-C'] = df['Open'] - df['Close']\n",
    "    df['5MA'] = df['Adj Close'].rolling(window=5).mean()\n",
    "    df['10MA'] = df['Adj Close'].rolling(window=10).mean()\n",
    "    df['20MA'] = df['Adj Close'].rolling(window=20).mean()\n",
    "    df['7SD'] = df['Adj Close'].rolling(window=7).std()\n",
    "    df[\"EMA8\"] = df['Adj Close'].ewm(span=8).mean()\n",
    "    df[\"EMA21\"] = df['Adj Close'].ewm(span=21).mean()\n",
    "    df['EMA34'] = df['Adj Close'].ewm(span=34).mean()\n",
    "    df['EMA55'] = df['Adj Close'].ewm(span=55).mean()\n",
    "    df.ta.rsi(close='Close', length=14, append=True)\n",
    "    df['Close'] = df['Close'].shift(-1)\n",
    "    df = df.reset_index()\n",
    "    df.dropna(inplace=True)\n",
    "    df['Sentiment'] = get_sentiment_data(ticker,df)\n",
    "    #save the data in a csv file\n",
    "    df.to_csv(r'../data/{name}.csv'.format(name=ticker))\n",
    "    "
   ]
  },
  {
   "cell_type": "code",
   "execution_count": 3,
   "id": "1bfe63c8",
   "metadata": {},
   "outputs": [],
   "source": [
    "#function to access the api endpoint and get the data\n",
    "def get_sentiment_data(ticker_symbol,df):\n",
    "    dates = df['Date']\n",
    "    dates = dates.apply(lambda x: datetime.strptime(str(x), '%Y-%m-%d %H:%M:%S').strftime(\"%Y-%m-%d\"))\n",
    "    sentiment_values = []\n",
    "\n",
    "    for m in dates:        \n",
    "        #the request is put in a try catch block to stop the loop from breaking\n",
    "        try:\n",
    "            #initiate the connection to the 3rd party api service\n",
    "            conn = http.client.HTTPSConnection('api.marketaux.com') \n",
    "            params = urllib.parse.urlencode({\n",
    "                'api_token': 'fkkywOjEYioULrZrV9pt21k6pTtRPW5C17FeWNkE',\n",
    "                'symbols': ticker_symbol,\n",
    "                'published_on':m\n",
    "                })\n",
    "\n",
    "            conn.request('GET', '/v1/entity/stats/aggregation?{}'.format(params))\n",
    "            res = conn.getresponse()\n",
    "            data = res.read()\n",
    "            parsed = json.loads(data)\n",
    "            sentiment_values.append(parsed['data'][0]['sentiment_avg'])\n",
    "        except Exception as e:\n",
    "            print('The error occured is ' + e.__class__)       \n",
    "        time.sleep(0.5)\n",
    "        \n",
    "    return sentiment_values"
   ]
  },
  {
   "cell_type": "code",
   "execution_count": 4,
   "id": "41867bf3",
   "metadata": {},
   "outputs": [
    {
     "name": "stdout",
     "output_type": "stream",
     "text": [
      "AAPLis done\n"
     ]
    },
    {
     "ename": "TypeError",
     "evalue": "can only concatenate str (not \"type\") to str",
     "output_type": "error",
     "traceback": [
      "\u001b[0;31m---------------------------------------------------------------------------\u001b[0m",
      "\u001b[0;31mKeyError\u001b[0m                                  Traceback (most recent call last)",
      "Input \u001b[0;32mIn [3]\u001b[0m, in \u001b[0;36mget_sentiment_data\u001b[0;34m(ticker_symbol, df)\u001b[0m\n\u001b[1;32m     21\u001b[0m     parsed \u001b[38;5;241m=\u001b[39m json\u001b[38;5;241m.\u001b[39mloads(data)\n\u001b[0;32m---> 22\u001b[0m     sentiment_values\u001b[38;5;241m.\u001b[39mappend(\u001b[43mparsed\u001b[49m\u001b[43m[\u001b[49m\u001b[38;5;124;43m'\u001b[39;49m\u001b[38;5;124;43mdata\u001b[39;49m\u001b[38;5;124;43m'\u001b[39;49m\u001b[43m]\u001b[49m[\u001b[38;5;241m0\u001b[39m][\u001b[38;5;124m'\u001b[39m\u001b[38;5;124msentiment_avg\u001b[39m\u001b[38;5;124m'\u001b[39m])\n\u001b[1;32m     23\u001b[0m \u001b[38;5;28;01mexcept\u001b[39;00m \u001b[38;5;167;01mException\u001b[39;00m \u001b[38;5;28;01mas\u001b[39;00m e:\n",
      "\u001b[0;31mKeyError\u001b[0m: 'data'",
      "\nDuring handling of the above exception, another exception occurred:\n",
      "\u001b[0;31mTypeError\u001b[0m                                 Traceback (most recent call last)",
      "Input \u001b[0;32mIn [4]\u001b[0m, in \u001b[0;36m<cell line: 7>\u001b[0;34m()\u001b[0m\n\u001b[1;32m      5\u001b[0m end_date \u001b[38;5;241m=\u001b[39m \u001b[38;5;124m\"\u001b[39m\u001b[38;5;124m2022-01-15\u001b[39m\u001b[38;5;124m\"\u001b[39m\n\u001b[1;32m      7\u001b[0m \u001b[38;5;28;01mfor\u001b[39;00m i \u001b[38;5;129;01min\u001b[39;00m stock_tickers:\n\u001b[0;32m----> 8\u001b[0m     \u001b[43mcreate_data\u001b[49m\u001b[43m(\u001b[49m\u001b[43mi\u001b[49m\u001b[43m,\u001b[49m\u001b[43mstart_date\u001b[49m\u001b[43m,\u001b[49m\u001b[43mend_date\u001b[49m\u001b[43m)\u001b[49m\n\u001b[1;32m      9\u001b[0m     \u001b[38;5;28mprint\u001b[39m(i \u001b[38;5;241m+\u001b[39m \u001b[38;5;124m\"\u001b[39m\u001b[38;5;124mis done\u001b[39m\u001b[38;5;124m\"\u001b[39m)\n\u001b[1;32m     10\u001b[0m     time\u001b[38;5;241m.\u001b[39msleep(\u001b[38;5;241m2\u001b[39m)\n",
      "Input \u001b[0;32mIn [2]\u001b[0m, in \u001b[0;36mcreate_data\u001b[0;34m(ticker, start_date, end_date)\u001b[0m\n\u001b[1;32m     16\u001b[0m df \u001b[38;5;241m=\u001b[39m df\u001b[38;5;241m.\u001b[39mreset_index()\n\u001b[1;32m     17\u001b[0m df\u001b[38;5;241m.\u001b[39mdropna(inplace\u001b[38;5;241m=\u001b[39m\u001b[38;5;28;01mTrue\u001b[39;00m)\n\u001b[0;32m---> 18\u001b[0m df[\u001b[38;5;124m'\u001b[39m\u001b[38;5;124mSentiment\u001b[39m\u001b[38;5;124m'\u001b[39m] \u001b[38;5;241m=\u001b[39m \u001b[43mget_sentiment_data\u001b[49m\u001b[43m(\u001b[49m\u001b[43mticker\u001b[49m\u001b[43m,\u001b[49m\u001b[43mdf\u001b[49m\u001b[43m)\u001b[49m\n\u001b[1;32m     19\u001b[0m \u001b[38;5;66;03m#save the data in a csv file\u001b[39;00m\n\u001b[1;32m     20\u001b[0m df\u001b[38;5;241m.\u001b[39mto_csv(\u001b[38;5;124mr\u001b[39m\u001b[38;5;124m'\u001b[39m\u001b[38;5;124m../data/\u001b[39m\u001b[38;5;132;01m{name}\u001b[39;00m\u001b[38;5;124m.csv\u001b[39m\u001b[38;5;124m'\u001b[39m\u001b[38;5;241m.\u001b[39mformat(name\u001b[38;5;241m=\u001b[39mticker))\n",
      "Input \u001b[0;32mIn [3]\u001b[0m, in \u001b[0;36mget_sentiment_data\u001b[0;34m(ticker_symbol, df)\u001b[0m\n\u001b[1;32m     22\u001b[0m         sentiment_values\u001b[38;5;241m.\u001b[39mappend(parsed[\u001b[38;5;124m'\u001b[39m\u001b[38;5;124mdata\u001b[39m\u001b[38;5;124m'\u001b[39m][\u001b[38;5;241m0\u001b[39m][\u001b[38;5;124m'\u001b[39m\u001b[38;5;124msentiment_avg\u001b[39m\u001b[38;5;124m'\u001b[39m])\n\u001b[1;32m     23\u001b[0m     \u001b[38;5;28;01mexcept\u001b[39;00m \u001b[38;5;167;01mException\u001b[39;00m \u001b[38;5;28;01mas\u001b[39;00m e:\n\u001b[0;32m---> 24\u001b[0m         \u001b[38;5;28mprint\u001b[39m(\u001b[38;5;124;43m'\u001b[39;49m\u001b[38;5;124;43mThe error occured is \u001b[39;49m\u001b[38;5;124;43m'\u001b[39;49m\u001b[43m \u001b[49m\u001b[38;5;241;43m+\u001b[39;49m\u001b[43m \u001b[49m\u001b[43me\u001b[49m\u001b[38;5;241;43m.\u001b[39;49m\u001b[38;5;18;43m__class__\u001b[39;49m)       \n\u001b[1;32m     25\u001b[0m     time\u001b[38;5;241m.\u001b[39msleep(\u001b[38;5;241m0.5\u001b[39m)\n\u001b[1;32m     27\u001b[0m \u001b[38;5;28;01mreturn\u001b[39;00m sentiment_values\n",
      "\u001b[0;31mTypeError\u001b[0m: can only concatenate str (not \"type\") to str"
     ]
    }
   ],
   "source": [
    "#obtain and store the stock related data\n",
    "stock_tickers = ['AAPL','TSLA','GOOG','MSFT']\n",
    "\n",
    "start_date = \"2021-08-01\"\n",
    "end_date = \"2022-01-15\"\n",
    "\n",
    "for i in stock_tickers:\n",
    "    create_data(i,start_date,end_date)\n",
    "    print(i + \" is done\")\n",
    "    time.sleep(2)"
   ]
  },
  {
   "cell_type": "code",
   "execution_count": null,
   "id": "21b2eaaf",
   "metadata": {},
   "outputs": [],
   "source": []
  }
 ],
 "metadata": {
  "kernelspec": {
   "display_name": "Python 3 (ipykernel)",
   "language": "python",
   "name": "python3"
  },
  "language_info": {
   "codemirror_mode": {
    "name": "ipython",
    "version": 3
   },
   "file_extension": ".py",
   "mimetype": "text/x-python",
   "name": "python",
   "nbconvert_exporter": "python",
   "pygments_lexer": "ipython3",
   "version": "3.8.13"
  }
 },
 "nbformat": 4,
 "nbformat_minor": 5
}
