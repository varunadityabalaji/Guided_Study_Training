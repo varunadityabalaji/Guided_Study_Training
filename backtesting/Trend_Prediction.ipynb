{
 "cells": [
  {
   "cell_type": "code",
   "execution_count": 2,
   "id": "e6a8bf2a",
   "metadata": {},
   "outputs": [],
   "source": [
    "import pandas as pd\n",
    "import yfinance as yf\n",
    "import pandas as pd\n",
    "import pandas_datareader.data as web\n",
    "import pandas_ta as ta\n",
    "import http.client, urllib.parse\n",
    "import json\n",
    "from datetime import datetime\n",
    "import time\n",
    "from keras.models import load_model\n",
    "import pickle\n",
    "from sklearn.decomposition import PCA\n",
    "import numpy as np"
   ]
  },
  {
   "cell_type": "code",
   "execution_count": 3,
   "id": "7c400740",
   "metadata": {},
   "outputs": [],
   "source": [
    "#import all the data\n",
    "apple = pd.read_csv('../data/test_AAPL.csv')\n",
    "tesla = pd.read_csv('../data/test_TSLA.csv')\n",
    "microsoft = pd.read_csv('../data/test_MSFT.csv')\n",
    "google = pd.read_csv('../data/test_GOOG.csv')"
   ]
  },
  {
   "cell_type": "code",
   "execution_count": 4,
   "id": "86447990",
   "metadata": {},
   "outputs": [],
   "source": [
    "#get the array of opening and closing price\n",
    "apple_opening_prices = apple['Open']\n",
    "apple_closing_prices = apple['Close']\n",
    "tesla_opening_prices = tesla['Open']\n",
    "tesla_closing_prices = tesla['Close']\n",
    "microsoft_opening_prices = microsoft['Open']\n",
    "microsoft_closing_prices = microsoft['Close']\n",
    "google_opening_prices = google['Open']\n",
    "google_closing_prices = google['Close']"
   ]
  },
  {
   "cell_type": "code",
   "execution_count": 5,
   "id": "0003e9dc",
   "metadata": {},
   "outputs": [],
   "source": [
    "#trend is 1 for upward trend and 0 for downward trend\n",
    "#apple\n",
    "apple_trend = []\n",
    "for i in range(0,len(apple_opening_prices)):\n",
    "    if apple_opening_prices[i]>apple_closing_prices[i]:\n",
    "        apple_trend.append(0)\n",
    "    else:\n",
    "        apple_trend.append(1)\n",
    "\n",
    "#google\n",
    "google_trend = []\n",
    "for i in range(0,len(google_opening_prices)):\n",
    "    if google_opening_prices[i]>google_closing_prices[i]:\n",
    "        google_trend.append(0)\n",
    "    else:\n",
    "        google_trend.append(1)\n",
    "        \n",
    "#tesla\n",
    "tesla_trend = []\n",
    "for i in range(0,len(tesla_opening_prices)):\n",
    "    if tesla_opening_prices[i]>tesla_closing_prices[i]:\n",
    "        tesla_trend.append(0)\n",
    "    else:\n",
    "        tesla_trend.append(1)\n",
    "\n",
    "#microsoft\n",
    "microsoft_trend = []\n",
    "for i in range(0,len(microsoft_opening_prices)):\n",
    "    if microsoft_opening_prices[i]>microsoft_closing_prices[i]:\n",
    "        microsoft_trend.append(0)\n",
    "    else:\n",
    "        microsoft_trend.append(1)\n"
   ]
  },
  {
   "cell_type": "code",
   "execution_count": 6,
   "id": "e6dd3ded",
   "metadata": {},
   "outputs": [],
   "source": [
    "#features to be used\n",
    "indicators = ['High','Low','Open','Volume','Adj Close','H-L','O-C','5MA',\n",
    "              '10MA','20MA','7SD','EMA8','EMA21','EMA34','EMA55','RSI_14','Sentiment']\n",
    "\n",
    "\n",
    "#function to calculate the percentages of right trend prediction\n",
    "def calculate_score(ticker_name,stock_data,model_path,x_normaliser,y_normaliser,trend,model_name,opening_prices):\n",
    "    #load model\n",
    "    if model_name != 'random forest':\n",
    "        model = load_model(model_path)\n",
    "    else:\n",
    "        model = pickle.load(open(model_path, 'rb'))\n",
    "    \n",
    "    #load the scalers\n",
    "    with open(x_normaliser, \"rb\") as input_file:\n",
    "                x_scaler = pickle.load(input_file)\n",
    "\n",
    "    with open(y_normaliser, \"rb\") as input_file:\n",
    "                y_scaler = pickle.load(input_file)\n",
    "\n",
    "    data = stock_data[indicators]\n",
    "    scaled_data = x_scaler.transform(data)\n",
    "    \n",
    "    pca = PCA(n_components=4)\n",
    "    scaled_data = pca.fit_transform(scaled_data)\n",
    "    \n",
    "    \n",
    "    if model_name=='lstm' or model_name=='gru':\n",
    "        scaled_data = np.expand_dims(scaled_data, axis=1)\n",
    "        \n",
    "    pred = model.predict(scaled_data)\n",
    "    pred = y_scaler.inverse_transform(pred.reshape(-1,1))\n",
    "\n",
    "    temp = []\n",
    "    for i in range(0,len(pred)):\n",
    "        if opening_prices[i]>pred[i]:\n",
    "            temp.append(0)\n",
    "        else:\n",
    "            temp.append(1)\n",
    "    \n",
    "    ct = 0\n",
    "\n",
    "    for i in range(0,len(temp)):\n",
    "        if temp[i]==trend[i]:\n",
    "            ct=ct+1\n",
    "    \n",
    "    percentage = (ct/len(temp))*100\n",
    "    \n",
    "    print('The trend accuracy of the model for ' + ticker_name + ' ' + model_name + ' is ' + str(percentage)) \n",
    "    "
   ]
  },
  {
   "cell_type": "code",
   "execution_count": 134,
   "id": "b3d39d8d",
   "metadata": {},
   "outputs": [
    {
     "name": "stdout",
     "output_type": "stream",
     "text": [
      "2/2 [==============================] - 0s 12ms/step\n",
      "The trend accuracy of the model for AAPL ann is 51.515151515151516\n",
      "WARNING:tensorflow:Layer lstm will not use cuDNN kernels since it doesn't meet the criteria. It will use a generic GPU kernel as fallback when running on GPU.\n"
     ]
    },
    {
     "name": "stderr",
     "output_type": "stream",
     "text": [
      "/Users/varun/miniforge3/envs/guided_study/lib/python3.8/site-packages/sklearn/base.py:443: UserWarning: X has feature names, but MinMaxScaler was fitted without feature names\n",
      "  warnings.warn(\n",
      "2022-07-17 00:35:38.308141: I tensorflow/core/grappler/optimizers/custom_graph_optimizer_registry.cc:113] Plugin optimizer for device_type GPU is enabled.\n",
      "/Users/varun/miniforge3/envs/guided_study/lib/python3.8/site-packages/sklearn/base.py:443: UserWarning: X has feature names, but MinMaxScaler was fitted without feature names\n",
      "  warnings.warn(\n"
     ]
    },
    {
     "name": "stdout",
     "output_type": "stream",
     "text": [
      "2/2 [==============================] - 0s 30ms/step\n",
      "The trend accuracy of the model for AAPL lstm is 51.515151515151516\n",
      "WARNING:tensorflow:Layer gru_4 will not use cuDNN kernels since it doesn't meet the criteria. It will use a generic GPU kernel as fallback when running on GPU.\n"
     ]
    },
    {
     "name": "stderr",
     "output_type": "stream",
     "text": [
      "2022-07-17 00:35:38.538908: I tensorflow/core/grappler/optimizers/custom_graph_optimizer_registry.cc:113] Plugin optimizer for device_type GPU is enabled.\n",
      "/Users/varun/miniforge3/envs/guided_study/lib/python3.8/site-packages/sklearn/base.py:443: UserWarning: X has feature names, but MinMaxScaler was fitted without feature names\n",
      "  warnings.warn(\n"
     ]
    },
    {
     "name": "stdout",
     "output_type": "stream",
     "text": [
      "2/2 [==============================] - 0s 37ms/step\n",
      "The trend accuracy of the model for AAPL gru is 51.515151515151516\n",
      "The trend accuracy of the model for AAPL random forest is 48.484848484848484\n"
     ]
    },
    {
     "name": "stderr",
     "output_type": "stream",
     "text": [
      "2022-07-17 00:35:38.830652: I tensorflow/core/grappler/optimizers/custom_graph_optimizer_registry.cc:113] Plugin optimizer for device_type GPU is enabled.\n",
      "/Users/varun/miniforge3/envs/guided_study/lib/python3.8/site-packages/sklearn/base.py:443: UserWarning: X has feature names, but MinMaxScaler was fitted without feature names\n",
      "  warnings.warn(\n"
     ]
    }
   ],
   "source": [
    "#apple\n",
    "calculate_score('AAPL',apple,'../models/AAPL_ann.h5','../normalizers/scaler_x_AAPL_ann.pkl',\n",
    "                '../normalizers/scaler_y_AAPL_ann.pkl',apple_trend,'ann',apple_opening_prices)\n",
    "\n",
    "calculate_score('AAPL',apple,'../models/AAPL_lstm.h5','../normalizers/scaler_x_AAPL_ann.pkl',\n",
    "                '../normalizers/scaler_y_AAPL_ann.pkl',apple_trend,'lstm',apple_opening_prices)\n",
    "\n",
    "calculate_score('AAPL',apple,'../models/AAPL_gru.h5','../normalizers/scaler_x_AAPL_ann.pkl',\n",
    "                '../normalizers/scaler_y_AAPL_ann.pkl',apple_trend,'gru',apple_opening_prices)\n",
    "\n",
    "calculate_score('AAPL',apple,'../models/random_forest_AAPL.sav','../normalizers/scaler_x_AAPL_ann.pkl',\n",
    "                '../normalizers/scaler_y_AAPL_ann.pkl',apple_trend,'random forest',apple_opening_prices)\n",
    "\n",
    "\n",
    "\n",
    "\n",
    "\n"
   ]
  },
  {
   "cell_type": "code",
   "execution_count": 11,
   "id": "4355400c",
   "metadata": {},
   "outputs": [
    {
     "name": "stdout",
     "output_type": "stream",
     "text": [
      "2/2 [==============================] - 0s 11ms/step\n",
      "The trend accuracy of the model for TSLA ann is 54.54545454545454\n",
      "WARNING:tensorflow:Layer lstm_19 will not use cuDNN kernels since it doesn't meet the criteria. It will use a generic GPU kernel as fallback when running on GPU.\n"
     ]
    },
    {
     "name": "stderr",
     "output_type": "stream",
     "text": [
      "/Users/varun/miniforge3/envs/guided_study/lib/python3.8/site-packages/sklearn/base.py:443: UserWarning: X has feature names, but MinMaxScaler was fitted without feature names\n",
      "  warnings.warn(\n",
      "2022-07-19 21:26:43.117768: I tensorflow/core/grappler/optimizers/custom_graph_optimizer_registry.cc:113] Plugin optimizer for device_type GPU is enabled.\n",
      "/Users/varun/miniforge3/envs/guided_study/lib/python3.8/site-packages/sklearn/base.py:443: UserWarning: X has feature names, but MinMaxScaler was fitted without feature names\n",
      "  warnings.warn(\n"
     ]
    },
    {
     "name": "stdout",
     "output_type": "stream",
     "text": [
      "2/2 [==============================] - 0s 26ms/step\n",
      "The trend accuracy of the model for TSLA lstm is 51.515151515151516\n",
      "WARNING:tensorflow:Layer gru_6 will not use cuDNN kernels since it doesn't meet the criteria. It will use a generic GPU kernel as fallback when running on GPU.\n"
     ]
    },
    {
     "name": "stderr",
     "output_type": "stream",
     "text": [
      "2022-07-19 21:26:43.350583: I tensorflow/core/grappler/optimizers/custom_graph_optimizer_registry.cc:113] Plugin optimizer for device_type GPU is enabled.\n",
      "/Users/varun/miniforge3/envs/guided_study/lib/python3.8/site-packages/sklearn/base.py:443: UserWarning: X has feature names, but MinMaxScaler was fitted without feature names\n",
      "  warnings.warn(\n"
     ]
    },
    {
     "name": "stdout",
     "output_type": "stream",
     "text": [
      "2/2 [==============================] - 0s 33ms/step\n",
      "The trend accuracy of the model for TSLA gru is 51.515151515151516\n",
      "The trend accuracy of the model for TSLA random forest is 57.57575757575758\n"
     ]
    },
    {
     "name": "stderr",
     "output_type": "stream",
     "text": [
      "2022-07-19 21:26:43.639377: I tensorflow/core/grappler/optimizers/custom_graph_optimizer_registry.cc:113] Plugin optimizer for device_type GPU is enabled.\n",
      "/Users/varun/miniforge3/envs/guided_study/lib/python3.8/site-packages/sklearn/base.py:443: UserWarning: X has feature names, but MinMaxScaler was fitted without feature names\n",
      "  warnings.warn(\n"
     ]
    }
   ],
   "source": [
    "#tesla\n",
    "calculate_score('TSLA',tesla,'../models/TSLA_ann.h5','../normalizers/scaler_x_TSLA_ann.pkl',\n",
    "                '../normalizers/scaler_y_TSLA_ann.pkl',tesla_trend,'ann',tesla_opening_prices)\n",
    "\n",
    "calculate_score('TSLA',tesla,'../models/TSLA_lstm.h5','../normalizers/scaler_x_TSLA_ann.pkl',\n",
    "                '../normalizers/scaler_y_TSLA_ann.pkl',tesla_trend,'lstm',tesla_opening_prices)\n",
    "\n",
    "calculate_score('TSLA',tesla,'../models/TSLA_gru.h5','../normalizers/scaler_x_TSLA_ann.pkl',\n",
    "                '../normalizers/scaler_y_TSLA_ann.pkl',tesla_trend,'gru',tesla_opening_prices)\n",
    "\n",
    "calculate_score('TSLA',tesla,'../models/random_forest_TSLA.sav','../normalizers/scaler_x_TSLA_ann.pkl',\n",
    "                '../normalizers/scaler_y_TSLA_ann.pkl',tesla_trend,'random forest',tesla_opening_prices)\n",
    "        \n",
    "    "
   ]
  },
  {
   "cell_type": "code",
   "execution_count": 13,
   "id": "3bc680a5",
   "metadata": {},
   "outputs": [
    {
     "name": "stdout",
     "output_type": "stream",
     "text": [
      "2/2 [==============================] - 0s 14ms/step\n",
      "The trend accuracy of the model for GOOG ann is 57.57575757575758\n",
      "WARNING:tensorflow:Layer lstm_18 will not use cuDNN kernels since it doesn't meet the criteria. It will use a generic GPU kernel as fallback when running on GPU.\n"
     ]
    },
    {
     "name": "stderr",
     "output_type": "stream",
     "text": [
      "/Users/varun/miniforge3/envs/guided_study/lib/python3.8/site-packages/sklearn/base.py:443: UserWarning: X has feature names, but MinMaxScaler was fitted without feature names\n",
      "  warnings.warn(\n",
      "2022-07-19 21:27:45.594360: I tensorflow/core/grappler/optimizers/custom_graph_optimizer_registry.cc:113] Plugin optimizer for device_type GPU is enabled.\n"
     ]
    },
    {
     "name": "stdout",
     "output_type": "stream",
     "text": [
      "2/2 [==============================] - 0s 27ms/step\n",
      "The trend accuracy of the model for GOOG lstm is 51.515151515151516\n",
      "WARNING:tensorflow:Layer gru_5 will not use cuDNN kernels since it doesn't meet the criteria. It will use a generic GPU kernel as fallback when running on GPU.\n"
     ]
    },
    {
     "name": "stderr",
     "output_type": "stream",
     "text": [
      "/Users/varun/miniforge3/envs/guided_study/lib/python3.8/site-packages/sklearn/base.py:443: UserWarning: X has feature names, but MinMaxScaler was fitted without feature names\n",
      "  warnings.warn(\n",
      "2022-07-19 21:27:45.844180: I tensorflow/core/grappler/optimizers/custom_graph_optimizer_registry.cc:113] Plugin optimizer for device_type GPU is enabled.\n"
     ]
    },
    {
     "name": "stdout",
     "output_type": "stream",
     "text": [
      "\r",
      "1/2 [==============>...............] - ETA: 0s"
     ]
    },
    {
     "name": "stderr",
     "output_type": "stream",
     "text": [
      "/Users/varun/miniforge3/envs/guided_study/lib/python3.8/site-packages/sklearn/base.py:443: UserWarning: X has feature names, but MinMaxScaler was fitted without feature names\n",
      "  warnings.warn(\n",
      "2022-07-19 21:27:46.134674: I tensorflow/core/grappler/optimizers/custom_graph_optimizer_registry.cc:113] Plugin optimizer for device_type GPU is enabled.\n"
     ]
    },
    {
     "name": "stdout",
     "output_type": "stream",
     "text": [
      "2/2 [==============================] - 0s 37ms/step\n",
      "The trend accuracy of the model for GOOG gru is 54.54545454545454\n",
      "The trend accuracy of the model for GOOG random forest is 57.57575757575758\n"
     ]
    },
    {
     "name": "stderr",
     "output_type": "stream",
     "text": [
      "/Users/varun/miniforge3/envs/guided_study/lib/python3.8/site-packages/sklearn/base.py:443: UserWarning: X has feature names, but MinMaxScaler was fitted without feature names\n",
      "  warnings.warn(\n"
     ]
    }
   ],
   "source": [
    "#google\n",
    "calculate_score('GOOG',google,'../models/GOOG_ann.h5','../normalizers/scaler_x_GOOG_ann.pkl',\n",
    "                '../normalizers/scaler_y_GOOG_ann.pkl',google_trend,'ann',google_opening_prices)\n",
    "\n",
    "calculate_score('GOOG',google,'../models/GOOG_lstm.h5','../normalizers/scaler_x_GOOG_ann.pkl',\n",
    "                '../normalizers/scaler_y_GOOG_ann.pkl',google_trend,'lstm',google_opening_prices)\n",
    "\n",
    "calculate_score('GOOG',google,'../models/GOOG_gru.h5','../normalizers/scaler_x_GOOG_ann.pkl',\n",
    "                '../normalizers/scaler_y_GOOG_ann.pkl',google_trend,'gru',google_opening_prices)\n",
    "\n",
    "calculate_score('GOOG',google,'../models/random_forest_GOOG.sav','../normalizers/scaler_x_GOOG_ann.pkl',\n",
    "                '../normalizers/scaler_y_GOOG_ann.pkl',google_trend,'random forest',google_opening_prices)"
   ]
  },
  {
   "cell_type": "code",
   "execution_count": 14,
   "id": "86c5c2a7",
   "metadata": {},
   "outputs": [
    {
     "name": "stdout",
     "output_type": "stream",
     "text": [
      "2/2 [==============================] - 0s 12ms/step\n",
      "The trend accuracy of the model for MSFT ann is 45.45454545454545\n",
      "WARNING:tensorflow:Layer lstm_20 will not use cuDNN kernels since it doesn't meet the criteria. It will use a generic GPU kernel as fallback when running on GPU.\n"
     ]
    },
    {
     "name": "stderr",
     "output_type": "stream",
     "text": [
      "/Users/varun/miniforge3/envs/guided_study/lib/python3.8/site-packages/sklearn/base.py:443: UserWarning: X has feature names, but MinMaxScaler was fitted without feature names\n",
      "  warnings.warn(\n",
      "2022-07-19 21:28:08.608836: I tensorflow/core/grappler/optimizers/custom_graph_optimizer_registry.cc:113] Plugin optimizer for device_type GPU is enabled.\n",
      "/Users/varun/miniforge3/envs/guided_study/lib/python3.8/site-packages/sklearn/base.py:443: UserWarning: X has feature names, but MinMaxScaler was fitted without feature names\n",
      "  warnings.warn(\n"
     ]
    },
    {
     "name": "stdout",
     "output_type": "stream",
     "text": [
      "2/2 [==============================] - 1s 28ms/step\n",
      "The trend accuracy of the model for MSFT lstm is 51.515151515151516\n",
      "WARNING:tensorflow:Layer gru_7 will not use cuDNN kernels since it doesn't meet the criteria. It will use a generic GPU kernel as fallback when running on GPU.\n"
     ]
    },
    {
     "name": "stderr",
     "output_type": "stream",
     "text": [
      "2022-07-19 21:28:09.206083: I tensorflow/core/grappler/optimizers/custom_graph_optimizer_registry.cc:113] Plugin optimizer for device_type GPU is enabled.\n"
     ]
    },
    {
     "name": "stdout",
     "output_type": "stream",
     "text": [
      "\r",
      "1/2 [==============>...............] - ETA: 0s"
     ]
    },
    {
     "name": "stderr",
     "output_type": "stream",
     "text": [
      "/Users/varun/miniforge3/envs/guided_study/lib/python3.8/site-packages/sklearn/base.py:443: UserWarning: X has feature names, but MinMaxScaler was fitted without feature names\n",
      "  warnings.warn(\n",
      "2022-07-19 21:28:09.530353: I tensorflow/core/grappler/optimizers/custom_graph_optimizer_registry.cc:113] Plugin optimizer for device_type GPU is enabled.\n"
     ]
    },
    {
     "name": "stdout",
     "output_type": "stream",
     "text": [
      "2/2 [==============================] - 0s 30ms/step\n",
      "The trend accuracy of the model for MSFT gru is 51.515151515151516\n",
      "The trend accuracy of the model for GOOG random forest is 51.515151515151516\n"
     ]
    },
    {
     "name": "stderr",
     "output_type": "stream",
     "text": [
      "/Users/varun/miniforge3/envs/guided_study/lib/python3.8/site-packages/sklearn/base.py:443: UserWarning: X has feature names, but MinMaxScaler was fitted without feature names\n",
      "  warnings.warn(\n"
     ]
    }
   ],
   "source": [
    "#microsoft\n",
    "calculate_score('MSFT',microsoft,'../models/MSFT_ann.h5','../normalizers/scaler_x_MSFT_ann.pkl',\n",
    "                '../normalizers/scaler_y_MSFT_ann.pkl',microsoft_trend,'ann',google_opening_prices)\n",
    "\n",
    "calculate_score('MSFT',apple,'../models/MSFT_lstm.h5','../normalizers/scaler_x_MSFT_ann.pkl',\n",
    "                '../normalizers/scaler_y_MSFT_ann.pkl',google_trend,'lstm',google_opening_prices)\n",
    "\n",
    "calculate_score('MSFT',apple,'../models/MSFT_gru.h5','../normalizers/scaler_x_MSFT_ann.pkl',\n",
    "                '../normalizers/scaler_y_MSFT_ann.pkl',google_trend,'gru',google_opening_prices)\n",
    "\n",
    "calculate_score('GOOG',apple,'../models/random_forest_MSFT.sav','../normalizers/scaler_x_MSFT_ann.pkl',\n",
    "                '../normalizers/scaler_y_MSFT_ann.pkl',google_trend,'random forest',google_opening_prices)"
   ]
  },
  {
   "cell_type": "code",
   "execution_count": null,
   "id": "a5adb873",
   "metadata": {},
   "outputs": [],
   "source": []
  }
 ],
 "metadata": {
  "kernelspec": {
   "display_name": "Python 3 (ipykernel)",
   "language": "python",
   "name": "python3"
  },
  "language_info": {
   "codemirror_mode": {
    "name": "ipython",
    "version": 3
   },
   "file_extension": ".py",
   "mimetype": "text/x-python",
   "name": "python",
   "nbconvert_exporter": "python",
   "pygments_lexer": "ipython3",
   "version": "3.8.13"
  }
 },
 "nbformat": 4,
 "nbformat_minor": 5
}
